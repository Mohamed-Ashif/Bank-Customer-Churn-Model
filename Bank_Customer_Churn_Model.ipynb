{
  "nbformat": 4,
  "nbformat_minor": 0,
  "metadata": {
    "colab": {
      "provenance": []
    },
    "kernelspec": {
      "name": "python3",
      "display_name": "Python 3"
    },
    "language_info": {
      "name": "python"
    }
  },
  "cells": [
    {
      "cell_type": "markdown",
      "source": [
        "# **Title of project: Bank Customer Churn Model**\n"
      ],
      "metadata": {
        "id": "jPTu1DMdoR4G"
      }
    },
    {
      "cell_type": "markdown",
      "source": [
        "# **Objective**\n",
        "\n",
        "The objective of the project is to develop a predictive model that can accurately identify and predict which customers are likely to churn (leave) the bank's services."
      ],
      "metadata": {
        "id": "9MZcNMMioo9P"
      }
    },
    {
      "cell_type": "markdown",
      "source": [
        "# **Data Source**\n",
        "\n",
        "Bank Customer Churn\n",
        "(https://github.com/YBI-Foundation/Dataset/raw/main/Bank%20Churn%20Modelling.csv)\n",
        "13 columns, 10,000 rows\n",
        "\n",
        "\n",
        "◉ CustomerId: Contains random values and has no effect on customer leaving the bank.\n",
        "\n",
        "◉ Surname: The surname of a customer has no impact on their decision to leave the bank.\n",
        "\n",
        "◉ CreditScore: Can have an effect on customer churn, since a customer with a higher credit score is less likely to leave the bank.\n",
        "\n",
        "◉ Geography: A customer’s location can affect their decision to leave the bank.\n",
        "\n",
        "◉ Gender: It’s interesting to explore whether gender plays a role in a customer leaving the bank.\n",
        "\n",
        "◉ Age: This is certainly relevant, since older customers are less likely to leave their bank than younger ones.\n",
        "\n",
        "◉ Tenure: Refers to the number of years that the customer has been a client of the bank. Normally, older clients are more loyal and less likely to leave a bank.\n",
        "\n",
        "◉ Balance: Also a very good indicator of customer churn, as people with a higher balance in their accounts are less likely to leave the bank compared to those with lower balances.\n",
        "\n",
        "◉ Num Of Products: Refers to the number of products that a customer has purchased through the bank.\n",
        "\n",
        "◉ Has Credit Card: Denotes whether or not a customer has a credit card. This column is also relevant, since people with a credit card are less likely to leave the bank.\n",
        "\n",
        "◉ Is Active Member: Active customers are less likely to leave the bank.\n",
        "\n",
        "◉ Estimated Salary: As with balance, people with lower salaries are more likely to leave the bank compared to those with higher salaries.\n",
        "\n",
        "◉ Churn: Whether or not the customer left the bank.\n"
      ],
      "metadata": {
        "id": "EAJNQTClpC5f"
      }
    },
    {
      "cell_type": "markdown",
      "source": [
        "# **Import  Library**"
      ],
      "metadata": {
        "id": "L2dhyqMfNTfl"
      }
    },
    {
      "cell_type": "code",
      "execution_count": 1,
      "metadata": {
        "id": "QYEEcAd8MoTm"
      },
      "outputs": [],
      "source": [
        "import numpy as np\n",
        "import pandas as pd\n",
        "import matplotlib.pyplot as plt\n",
        "import seaborn as sns"
      ]
    },
    {
      "cell_type": "markdown",
      "source": [
        "# **Import Data**"
      ],
      "metadata": {
        "id": "gcuvOsTGNeRi"
      }
    },
    {
      "cell_type": "code",
      "source": [
        "df = pd.read_csv('https://github.com/YBI-Foundation/Dataset/raw/main/Bank%20Churn%20Modelling.csv')\n",
        "df.head()"
      ],
      "metadata": {
        "colab": {
          "base_uri": "https://localhost:8080/",
          "height": 260
        },
        "id": "o3x7AFWJNiYi",
        "outputId": "64caff06-c740-44cf-8381-fed6a4103666"
      },
      "execution_count": 2,
      "outputs": [
        {
          "output_type": "execute_result",
          "data": {
            "text/plain": [
              "   CustomerId   Surname  CreditScore Geography  Gender  Age  Tenure  \\\n",
              "0    15634602  Hargrave          619    France  Female   42       2   \n",
              "1    15647311      Hill          608     Spain  Female   41       1   \n",
              "2    15619304      Onio          502    France  Female   42       8   \n",
              "3    15701354      Boni          699    France  Female   39       1   \n",
              "4    15737888  Mitchell          850     Spain  Female   43       2   \n",
              "\n",
              "     Balance  Num Of Products  Has Credit Card  Is Active Member  \\\n",
              "0       0.00                1                1                 1   \n",
              "1   83807.86                1                0                 1   \n",
              "2  159660.80                3                1                 0   \n",
              "3       0.00                2                0                 0   \n",
              "4  125510.82                1                1                 1   \n",
              "\n",
              "   Estimated Salary  Churn  \n",
              "0         101348.88      1  \n",
              "1         112542.58      0  \n",
              "2         113931.57      1  \n",
              "3          93826.63      0  \n",
              "4          79084.10      0  "
            ],
            "text/html": [
              "\n",
              "  <div id=\"df-5645868b-e096-4df6-8da9-251606a9dc99\" class=\"colab-df-container\">\n",
              "    <div>\n",
              "<style scoped>\n",
              "    .dataframe tbody tr th:only-of-type {\n",
              "        vertical-align: middle;\n",
              "    }\n",
              "\n",
              "    .dataframe tbody tr th {\n",
              "        vertical-align: top;\n",
              "    }\n",
              "\n",
              "    .dataframe thead th {\n",
              "        text-align: right;\n",
              "    }\n",
              "</style>\n",
              "<table border=\"1\" class=\"dataframe\">\n",
              "  <thead>\n",
              "    <tr style=\"text-align: right;\">\n",
              "      <th></th>\n",
              "      <th>CustomerId</th>\n",
              "      <th>Surname</th>\n",
              "      <th>CreditScore</th>\n",
              "      <th>Geography</th>\n",
              "      <th>Gender</th>\n",
              "      <th>Age</th>\n",
              "      <th>Tenure</th>\n",
              "      <th>Balance</th>\n",
              "      <th>Num Of Products</th>\n",
              "      <th>Has Credit Card</th>\n",
              "      <th>Is Active Member</th>\n",
              "      <th>Estimated Salary</th>\n",
              "      <th>Churn</th>\n",
              "    </tr>\n",
              "  </thead>\n",
              "  <tbody>\n",
              "    <tr>\n",
              "      <th>0</th>\n",
              "      <td>15634602</td>\n",
              "      <td>Hargrave</td>\n",
              "      <td>619</td>\n",
              "      <td>France</td>\n",
              "      <td>Female</td>\n",
              "      <td>42</td>\n",
              "      <td>2</td>\n",
              "      <td>0.00</td>\n",
              "      <td>1</td>\n",
              "      <td>1</td>\n",
              "      <td>1</td>\n",
              "      <td>101348.88</td>\n",
              "      <td>1</td>\n",
              "    </tr>\n",
              "    <tr>\n",
              "      <th>1</th>\n",
              "      <td>15647311</td>\n",
              "      <td>Hill</td>\n",
              "      <td>608</td>\n",
              "      <td>Spain</td>\n",
              "      <td>Female</td>\n",
              "      <td>41</td>\n",
              "      <td>1</td>\n",
              "      <td>83807.86</td>\n",
              "      <td>1</td>\n",
              "      <td>0</td>\n",
              "      <td>1</td>\n",
              "      <td>112542.58</td>\n",
              "      <td>0</td>\n",
              "    </tr>\n",
              "    <tr>\n",
              "      <th>2</th>\n",
              "      <td>15619304</td>\n",
              "      <td>Onio</td>\n",
              "      <td>502</td>\n",
              "      <td>France</td>\n",
              "      <td>Female</td>\n",
              "      <td>42</td>\n",
              "      <td>8</td>\n",
              "      <td>159660.80</td>\n",
              "      <td>3</td>\n",
              "      <td>1</td>\n",
              "      <td>0</td>\n",
              "      <td>113931.57</td>\n",
              "      <td>1</td>\n",
              "    </tr>\n",
              "    <tr>\n",
              "      <th>3</th>\n",
              "      <td>15701354</td>\n",
              "      <td>Boni</td>\n",
              "      <td>699</td>\n",
              "      <td>France</td>\n",
              "      <td>Female</td>\n",
              "      <td>39</td>\n",
              "      <td>1</td>\n",
              "      <td>0.00</td>\n",
              "      <td>2</td>\n",
              "      <td>0</td>\n",
              "      <td>0</td>\n",
              "      <td>93826.63</td>\n",
              "      <td>0</td>\n",
              "    </tr>\n",
              "    <tr>\n",
              "      <th>4</th>\n",
              "      <td>15737888</td>\n",
              "      <td>Mitchell</td>\n",
              "      <td>850</td>\n",
              "      <td>Spain</td>\n",
              "      <td>Female</td>\n",
              "      <td>43</td>\n",
              "      <td>2</td>\n",
              "      <td>125510.82</td>\n",
              "      <td>1</td>\n",
              "      <td>1</td>\n",
              "      <td>1</td>\n",
              "      <td>79084.10</td>\n",
              "      <td>0</td>\n",
              "    </tr>\n",
              "  </tbody>\n",
              "</table>\n",
              "</div>\n",
              "    <div class=\"colab-df-buttons\">\n",
              "\n",
              "  <div class=\"colab-df-container\">\n",
              "    <button class=\"colab-df-convert\" onclick=\"convertToInteractive('df-5645868b-e096-4df6-8da9-251606a9dc99')\"\n",
              "            title=\"Convert this dataframe to an interactive table.\"\n",
              "            style=\"display:none;\">\n",
              "\n",
              "  <svg xmlns=\"http://www.w3.org/2000/svg\" height=\"24px\" viewBox=\"0 -960 960 960\">\n",
              "    <path d=\"M120-120v-720h720v720H120Zm60-500h600v-160H180v160Zm220 220h160v-160H400v160Zm0 220h160v-160H400v160ZM180-400h160v-160H180v160Zm440 0h160v-160H620v160ZM180-180h160v-160H180v160Zm440 0h160v-160H620v160Z\"/>\n",
              "  </svg>\n",
              "    </button>\n",
              "\n",
              "  <style>\n",
              "    .colab-df-container {\n",
              "      display:flex;\n",
              "      gap: 12px;\n",
              "    }\n",
              "\n",
              "    .colab-df-convert {\n",
              "      background-color: #E8F0FE;\n",
              "      border: none;\n",
              "      border-radius: 50%;\n",
              "      cursor: pointer;\n",
              "      display: none;\n",
              "      fill: #1967D2;\n",
              "      height: 32px;\n",
              "      padding: 0 0 0 0;\n",
              "      width: 32px;\n",
              "    }\n",
              "\n",
              "    .colab-df-convert:hover {\n",
              "      background-color: #E2EBFA;\n",
              "      box-shadow: 0px 1px 2px rgba(60, 64, 67, 0.3), 0px 1px 3px 1px rgba(60, 64, 67, 0.15);\n",
              "      fill: #174EA6;\n",
              "    }\n",
              "\n",
              "    .colab-df-buttons div {\n",
              "      margin-bottom: 4px;\n",
              "    }\n",
              "\n",
              "    [theme=dark] .colab-df-convert {\n",
              "      background-color: #3B4455;\n",
              "      fill: #D2E3FC;\n",
              "    }\n",
              "\n",
              "    [theme=dark] .colab-df-convert:hover {\n",
              "      background-color: #434B5C;\n",
              "      box-shadow: 0px 1px 3px 1px rgba(0, 0, 0, 0.15);\n",
              "      filter: drop-shadow(0px 1px 2px rgba(0, 0, 0, 0.3));\n",
              "      fill: #FFFFFF;\n",
              "    }\n",
              "  </style>\n",
              "\n",
              "    <script>\n",
              "      const buttonEl =\n",
              "        document.querySelector('#df-5645868b-e096-4df6-8da9-251606a9dc99 button.colab-df-convert');\n",
              "      buttonEl.style.display =\n",
              "        google.colab.kernel.accessAllowed ? 'block' : 'none';\n",
              "\n",
              "      async function convertToInteractive(key) {\n",
              "        const element = document.querySelector('#df-5645868b-e096-4df6-8da9-251606a9dc99');\n",
              "        const dataTable =\n",
              "          await google.colab.kernel.invokeFunction('convertToInteractive',\n",
              "                                                    [key], {});\n",
              "        if (!dataTable) return;\n",
              "\n",
              "        const docLinkHtml = 'Like what you see? Visit the ' +\n",
              "          '<a target=\"_blank\" href=https://colab.research.google.com/notebooks/data_table.ipynb>data table notebook</a>'\n",
              "          + ' to learn more about interactive tables.';\n",
              "        element.innerHTML = '';\n",
              "        dataTable['output_type'] = 'display_data';\n",
              "        await google.colab.output.renderOutput(dataTable, element);\n",
              "        const docLink = document.createElement('div');\n",
              "        docLink.innerHTML = docLinkHtml;\n",
              "        element.appendChild(docLink);\n",
              "      }\n",
              "    </script>\n",
              "  </div>\n",
              "\n",
              "\n",
              "<div id=\"df-28f29a89-75bd-4942-a94d-d48a4b301c04\">\n",
              "  <button class=\"colab-df-quickchart\" onclick=\"quickchart('df-28f29a89-75bd-4942-a94d-d48a4b301c04')\"\n",
              "            title=\"Suggest charts.\"\n",
              "            style=\"display:none;\">\n",
              "\n",
              "<svg xmlns=\"http://www.w3.org/2000/svg\" height=\"24px\"viewBox=\"0 0 24 24\"\n",
              "     width=\"24px\">\n",
              "    <g>\n",
              "        <path d=\"M19 3H5c-1.1 0-2 .9-2 2v14c0 1.1.9 2 2 2h14c1.1 0 2-.9 2-2V5c0-1.1-.9-2-2-2zM9 17H7v-7h2v7zm4 0h-2V7h2v10zm4 0h-2v-4h2v4z\"/>\n",
              "    </g>\n",
              "</svg>\n",
              "  </button>\n",
              "\n",
              "<style>\n",
              "  .colab-df-quickchart {\n",
              "    background-color: #E8F0FE;\n",
              "    border: none;\n",
              "    border-radius: 50%;\n",
              "    cursor: pointer;\n",
              "    display: none;\n",
              "    fill: #1967D2;\n",
              "    height: 32px;\n",
              "    padding: 0 0 0 0;\n",
              "    width: 32px;\n",
              "  }\n",
              "\n",
              "  .colab-df-quickchart:hover {\n",
              "    background-color: #E2EBFA;\n",
              "    box-shadow: 0px 1px 2px rgba(60, 64, 67, 0.3), 0px 1px 3px 1px rgba(60, 64, 67, 0.15);\n",
              "    fill: #174EA6;\n",
              "  }\n",
              "\n",
              "  [theme=dark] .colab-df-quickchart {\n",
              "    background-color: #3B4455;\n",
              "    fill: #D2E3FC;\n",
              "  }\n",
              "\n",
              "  [theme=dark] .colab-df-quickchart:hover {\n",
              "    background-color: #434B5C;\n",
              "    box-shadow: 0px 1px 3px 1px rgba(0, 0, 0, 0.15);\n",
              "    filter: drop-shadow(0px 1px 2px rgba(0, 0, 0, 0.3));\n",
              "    fill: #FFFFFF;\n",
              "  }\n",
              "</style>\n",
              "\n",
              "  <script>\n",
              "    async function quickchart(key) {\n",
              "      const charts = await google.colab.kernel.invokeFunction(\n",
              "          'suggestCharts', [key], {});\n",
              "    }\n",
              "    (() => {\n",
              "      let quickchartButtonEl =\n",
              "        document.querySelector('#df-28f29a89-75bd-4942-a94d-d48a4b301c04 button');\n",
              "      quickchartButtonEl.style.display =\n",
              "        google.colab.kernel.accessAllowed ? 'block' : 'none';\n",
              "    })();\n",
              "  </script>\n",
              "</div>\n",
              "    </div>\n",
              "  </div>\n"
            ]
          },
          "metadata": {},
          "execution_count": 2
        }
      ]
    },
    {
      "cell_type": "markdown",
      "source": [
        "# **Analyze Data**"
      ],
      "metadata": {
        "id": "abiaTmpyOvgZ"
      }
    },
    {
      "cell_type": "code",
      "source": [
        "df.info()"
      ],
      "metadata": {
        "colab": {
          "base_uri": "https://localhost:8080/"
        },
        "id": "bw0f8dorOzoj",
        "outputId": "2ce48b52-8c88-43d6-d0d3-083ed9eb0b6d"
      },
      "execution_count": 3,
      "outputs": [
        {
          "output_type": "stream",
          "name": "stdout",
          "text": [
            "<class 'pandas.core.frame.DataFrame'>\n",
            "RangeIndex: 10000 entries, 0 to 9999\n",
            "Data columns (total 13 columns):\n",
            " #   Column            Non-Null Count  Dtype  \n",
            "---  ------            --------------  -----  \n",
            " 0   CustomerId        10000 non-null  int64  \n",
            " 1   Surname           10000 non-null  object \n",
            " 2   CreditScore       10000 non-null  int64  \n",
            " 3   Geography         10000 non-null  object \n",
            " 4   Gender            10000 non-null  object \n",
            " 5   Age               10000 non-null  int64  \n",
            " 6   Tenure            10000 non-null  int64  \n",
            " 7   Balance           10000 non-null  float64\n",
            " 8   Num Of Products   10000 non-null  int64  \n",
            " 9   Has Credit Card   10000 non-null  int64  \n",
            " 10  Is Active Member  10000 non-null  int64  \n",
            " 11  Estimated Salary  10000 non-null  float64\n",
            " 12  Churn             10000 non-null  int64  \n",
            "dtypes: float64(2), int64(8), object(3)\n",
            "memory usage: 1015.8+ KB\n"
          ]
        }
      ]
    },
    {
      "cell_type": "code",
      "source": [
        "df.duplicated('CustomerId').sum()"
      ],
      "metadata": {
        "colab": {
          "base_uri": "https://localhost:8080/"
        },
        "id": "AAtYpd6fO7MK",
        "outputId": "acf66495-b800-4c80-ba05-a821118dd841"
      },
      "execution_count": 4,
      "outputs": [
        {
          "output_type": "execute_result",
          "data": {
            "text/plain": [
              "0"
            ]
          },
          "metadata": {},
          "execution_count": 4
        }
      ]
    },
    {
      "cell_type": "code",
      "source": [
        "df = df.set_index('CustomerId')\n",
        "df.info()"
      ],
      "metadata": {
        "colab": {
          "base_uri": "https://localhost:8080/"
        },
        "id": "Qmx3zYEVO-fj",
        "outputId": "82e111a5-f5ee-4918-d604-d546cea3d817"
      },
      "execution_count": 5,
      "outputs": [
        {
          "output_type": "stream",
          "name": "stdout",
          "text": [
            "<class 'pandas.core.frame.DataFrame'>\n",
            "Int64Index: 10000 entries, 15634602 to 15628319\n",
            "Data columns (total 12 columns):\n",
            " #   Column            Non-Null Count  Dtype  \n",
            "---  ------            --------------  -----  \n",
            " 0   Surname           10000 non-null  object \n",
            " 1   CreditScore       10000 non-null  int64  \n",
            " 2   Geography         10000 non-null  object \n",
            " 3   Gender            10000 non-null  object \n",
            " 4   Age               10000 non-null  int64  \n",
            " 5   Tenure            10000 non-null  int64  \n",
            " 6   Balance           10000 non-null  float64\n",
            " 7   Num Of Products   10000 non-null  int64  \n",
            " 8   Has Credit Card   10000 non-null  int64  \n",
            " 9   Is Active Member  10000 non-null  int64  \n",
            " 10  Estimated Salary  10000 non-null  float64\n",
            " 11  Churn             10000 non-null  int64  \n",
            "dtypes: float64(2), int64(7), object(3)\n",
            "memory usage: 1015.6+ KB\n"
          ]
        }
      ]
    },
    {
      "cell_type": "markdown",
      "source": [
        "# **Encoding**"
      ],
      "metadata": {
        "id": "sVoNIbrlPitF"
      }
    },
    {
      "cell_type": "code",
      "source": [
        "df['Geography'].value_counts()"
      ],
      "metadata": {
        "colab": {
          "base_uri": "https://localhost:8080/"
        },
        "id": "NwB-mmnGPnjZ",
        "outputId": "ba7acd68-d3ef-450e-be16-8458b297729b"
      },
      "execution_count": 6,
      "outputs": [
        {
          "output_type": "execute_result",
          "data": {
            "text/plain": [
              "France     5014\n",
              "Germany    2509\n",
              "Spain      2477\n",
              "Name: Geography, dtype: int64"
            ]
          },
          "metadata": {},
          "execution_count": 6
        }
      ]
    },
    {
      "cell_type": "code",
      "source": [
        "df.replace({'Geography' : {'France' : 0, 'Germany' : 1, 'Spain' : 2}}, inplace=True)"
      ],
      "metadata": {
        "id": "AkMUcwI5QAi8"
      },
      "execution_count": 7,
      "outputs": []
    },
    {
      "cell_type": "code",
      "source": [
        "df['Gender'].value_counts()"
      ],
      "metadata": {
        "colab": {
          "base_uri": "https://localhost:8080/"
        },
        "id": "JhZV2Co5QAwc",
        "outputId": "f3d9664c-c219-4883-eaef-b4cbd60e80b1"
      },
      "execution_count": 8,
      "outputs": [
        {
          "output_type": "execute_result",
          "data": {
            "text/plain": [
              "Male      5457\n",
              "Female    4543\n",
              "Name: Gender, dtype: int64"
            ]
          },
          "metadata": {},
          "execution_count": 8
        }
      ]
    },
    {
      "cell_type": "code",
      "source": [
        "df.replace({'Gender' : {'Male' : 0, 'Female' : 1}}, inplace=True)"
      ],
      "metadata": {
        "id": "2tV1Es0eQix2"
      },
      "execution_count": 9,
      "outputs": []
    },
    {
      "cell_type": "code",
      "source": [
        "df['Num Of Products'].value_counts()"
      ],
      "metadata": {
        "colab": {
          "base_uri": "https://localhost:8080/"
        },
        "id": "VEbUIjIrRART",
        "outputId": "078ddf24-8535-448f-d595-fde6c0f742d9"
      },
      "execution_count": 10,
      "outputs": [
        {
          "output_type": "execute_result",
          "data": {
            "text/plain": [
              "1    5084\n",
              "2    4590\n",
              "3     266\n",
              "4      60\n",
              "Name: Num Of Products, dtype: int64"
            ]
          },
          "metadata": {},
          "execution_count": 10
        }
      ]
    },
    {
      "cell_type": "code",
      "source": [
        "df.replace({'Num Of Products' : {1 : 0, 2 : 1, 3 : 1, 4: 1}}, inplace=True)"
      ],
      "metadata": {
        "id": "s-w0FBgaRIU3"
      },
      "execution_count": 11,
      "outputs": []
    },
    {
      "cell_type": "code",
      "source": [
        "df.columns"
      ],
      "metadata": {
        "colab": {
          "base_uri": "https://localhost:8080/"
        },
        "id": "uiyoCYiXRJlm",
        "outputId": "6d347510-2f81-4197-f668-7ffe66b1feb4"
      },
      "execution_count": 12,
      "outputs": [
        {
          "output_type": "execute_result",
          "data": {
            "text/plain": [
              "Index(['Surname', 'CreditScore', 'Geography', 'Gender', 'Age', 'Tenure',\n",
              "       'Balance', 'Num Of Products', 'Has Credit Card', 'Is Active Member',\n",
              "       'Estimated Salary', 'Churn'],\n",
              "      dtype='object')"
            ]
          },
          "metadata": {},
          "execution_count": 12
        }
      ]
    },
    {
      "cell_type": "code",
      "source": [
        "df['Has Credit Card'].value_counts()"
      ],
      "metadata": {
        "colab": {
          "base_uri": "https://localhost:8080/"
        },
        "id": "rwNTADcISBSA",
        "outputId": "e57f596b-ea37-4a27-f7d8-2948d4e8ff3e"
      },
      "execution_count": 13,
      "outputs": [
        {
          "output_type": "execute_result",
          "data": {
            "text/plain": [
              "1    7055\n",
              "0    2945\n",
              "Name: Has Credit Card, dtype: int64"
            ]
          },
          "metadata": {},
          "execution_count": 13
        }
      ]
    },
    {
      "cell_type": "code",
      "source": [
        "df['Is Active Member'].value_counts()"
      ],
      "metadata": {
        "colab": {
          "base_uri": "https://localhost:8080/"
        },
        "id": "K1M2rbw_ScNX",
        "outputId": "df842d80-b0b7-4b14-d84f-3cacc9f2cd03"
      },
      "execution_count": 14,
      "outputs": [
        {
          "output_type": "execute_result",
          "data": {
            "text/plain": [
              "1    5151\n",
              "0    4849\n",
              "Name: Is Active Member, dtype: int64"
            ]
          },
          "metadata": {},
          "execution_count": 14
        }
      ]
    },
    {
      "cell_type": "markdown",
      "source": [
        "# **Feature Engineering**"
      ],
      "metadata": {
        "id": "rs56ZRHwSy58"
      }
    },
    {
      "cell_type": "code",
      "source": [
        "df.loc[(df['Balance'] == 0), 'Churn'].value_counts()"
      ],
      "metadata": {
        "colab": {
          "base_uri": "https://localhost:8080/"
        },
        "id": "tEIMwl0DS3CY",
        "outputId": "d12e137c-4eaf-491d-d156-10cede662f2f"
      },
      "execution_count": 15,
      "outputs": [
        {
          "output_type": "execute_result",
          "data": {
            "text/plain": [
              "0    3117\n",
              "1     500\n",
              "Name: Churn, dtype: int64"
            ]
          },
          "metadata": {},
          "execution_count": 15
        }
      ]
    },
    {
      "cell_type": "code",
      "source": [
        "df['Zero_Balance'] = np.where(df['Balance'] > 0, 1, 0)"
      ],
      "metadata": {
        "id": "yR7OCRnNS3Jb"
      },
      "execution_count": 16,
      "outputs": []
    },
    {
      "cell_type": "code",
      "source": [
        "df['Zero_Balance'].hist()\n",
        "plt.show()"
      ],
      "metadata": {
        "colab": {
          "base_uri": "https://localhost:8080/",
          "height": 430
        },
        "id": "iBiJTOhITuiE",
        "outputId": "de62df9b-de1e-4f23-f005-399a6488a617"
      },
      "execution_count": 17,
      "outputs": [
        {
          "output_type": "display_data",
          "data": {
            "text/plain": [
              "<Figure size 640x480 with 1 Axes>"
            ],
            "image/png": "[encoded data removed]"
          },
          "metadata": {}
        }
      ]
    },
    {
      "cell_type": "code",
      "source": [
        "df.groupby(['Churn', 'Geography']).count()"
      ],
      "metadata": {
        "colab": {
          "base_uri": "https://localhost:8080/",
          "height": 323
        },
        "id": "VXaRYve9T_o8",
        "outputId": "77aeab4a-ae4e-4830-9f94-d48928db0004"
      },
      "execution_count": 18,
      "outputs": [
        {
          "output_type": "execute_result",
          "data": {
            "text/plain": [
              "                 Surname  CreditScore  Gender   Age  Tenure  Balance  \\\n",
              "Churn Geography                                                        \n",
              "0     0             4204         4204    4204  4204    4204     4204   \n",
              "      1             1695         1695    1695  1695    1695     1695   \n",
              "      2             2064         2064    2064  2064    2064     2064   \n",
              "1     0              810          810     810   810     810      810   \n",
              "      1              814          814     814   814     814      814   \n",
              "      2              413          413     413   413     413      413   \n",
              "\n",
              "                 Num Of Products  Has Credit Card  Is Active Member  \\\n",
              "Churn Geography                                                       \n",
              "0     0                     4204             4204              4204   \n",
              "      1                     1695             1695              1695   \n",
              "      2                     2064             2064              2064   \n",
              "1     0                      810              810               810   \n",
              "      1                      814              814               814   \n",
              "      2                      413              413               413   \n",
              "\n",
              "                 Estimated Salary  Zero_Balance  \n",
              "Churn Geography                                  \n",
              "0     0                      4204          4204  \n",
              "      1                      1695          1695  \n",
              "      2                      2064          2064  \n",
              "1     0                       810           810  \n",
              "      1                       814           814  \n",
              "      2                       413           413  "
            ],
            "text/html": [
              "\n",
              "  <div id=\"df-02d87a1f-d0f2-47eb-adb4-6f3c9fff01fc\" class=\"colab-df-container\">\n",
              "    <div>\n",
              "<style scoped>\n",
              "    .dataframe tbody tr th:only-of-type {\n",
              "        vertical-align: middle;\n",
              "    }\n",
              "\n",
              "    .dataframe tbody tr th {\n",
              "        vertical-align: top;\n",
              "    }\n",
              "\n",
              "    .dataframe thead th {\n",
              "        text-align: right;\n",
              "    }\n",
              "</style>\n",
              "<table border=\"1\" class=\"dataframe\">\n",
              "  <thead>\n",
              "    <tr style=\"text-align: right;\">\n",
              "      <th></th>\n",
              "      <th></th>\n",
              "      <th>Surname</th>\n",
              "      <th>CreditScore</th>\n",
              "      <th>Gender</th>\n",
              "      <th>Age</th>\n",
              "      <th>Tenure</th>\n",
              "      <th>Balance</th>\n",
              "      <th>Num Of Products</th>\n",
              "      <th>Has Credit Card</th>\n",
              "      <th>Is Active Member</th>\n",
              "      <th>Estimated Salary</th>\n",
              "      <th>Zero_Balance</th>\n",
              "    </tr>\n",
              "    <tr>\n",
              "      <th>Churn</th>\n",
              "      <th>Geography</th>\n",
              "      <th></th>\n",
              "      <th></th>\n",
              "      <th></th>\n",
              "      <th></th>\n",
              "      <th></th>\n",
              "      <th></th>\n",
              "      <th></th>\n",
              "      <th></th>\n",
              "      <th></th>\n",
              "      <th></th>\n",
              "      <th></th>\n",
              "    </tr>\n",
              "  </thead>\n",
              "  <tbody>\n",
              "    <tr>\n",
              "      <th rowspan=\"3\" valign=\"top\">0</th>\n",
              "      <th>0</th>\n",
              "      <td>4204</td>\n",
              "      <td>4204</td>\n",
              "      <td>4204</td>\n",
              "      <td>4204</td>\n",
              "      <td>4204</td>\n",
              "      <td>4204</td>\n",
              "      <td>4204</td>\n",
              "      <td>4204</td>\n",
              "      <td>4204</td>\n",
              "      <td>4204</td>\n",
              "      <td>4204</td>\n",
              "    </tr>\n",
              "    <tr>\n",
              "      <th>1</th>\n",
              "      <td>1695</td>\n",
              "      <td>1695</td>\n",
              "      <td>1695</td>\n",
              "      <td>1695</td>\n",
              "      <td>1695</td>\n",
              "      <td>1695</td>\n",
              "      <td>1695</td>\n",
              "      <td>1695</td>\n",
              "      <td>1695</td>\n",
              "      <td>1695</td>\n",
              "      <td>1695</td>\n",
              "    </tr>\n",
              "    <tr>\n",
              "      <th>2</th>\n",
              "      <td>2064</td>\n",
              "      <td>2064</td>\n",
              "      <td>2064</td>\n",
              "      <td>2064</td>\n",
              "      <td>2064</td>\n",
              "      <td>2064</td>\n",
              "      <td>2064</td>\n",
              "      <td>2064</td>\n",
              "      <td>2064</td>\n",
              "      <td>2064</td>\n",
              "      <td>2064</td>\n",
              "    </tr>\n",
              "    <tr>\n",
              "      <th rowspan=\"3\" valign=\"top\">1</th>\n",
              "      <th>0</th>\n",
              "      <td>810</td>\n",
              "      <td>810</td>\n",
              "      <td>810</td>\n",
              "      <td>810</td>\n",
              "      <td>810</td>\n",
              "      <td>810</td>\n",
              "      <td>810</td>\n",
              "      <td>810</td>\n",
              "      <td>810</td>\n",
              "      <td>810</td>\n",
              "      <td>810</td>\n",
              "    </tr>\n",
              "    <tr>\n",
              "      <th>1</th>\n",
              "      <td>814</td>\n",
              "      <td>814</td>\n",
              "      <td>814</td>\n",
              "      <td>814</td>\n",
              "      <td>814</td>\n",
              "      <td>814</td>\n",
              "      <td>814</td>\n",
              "      <td>814</td>\n",
              "      <td>814</td>\n",
              "      <td>814</td>\n",
              "      <td>814</td>\n",
              "    </tr>\n",
              "    <tr>\n",
              "      <th>2</th>\n",
              "      <td>413</td>\n",
              "      <td>413</td>\n",
              "      <td>413</td>\n",
              "      <td>413</td>\n",
              "      <td>413</td>\n",
              "      <td>413</td>\n",
              "      <td>413</td>\n",
              "      <td>413</td>\n",
              "      <td>413</td>\n",
              "      <td>413</td>\n",
              "      <td>413</td>\n",
              "    </tr>\n",
              "  </tbody>\n",
              "</table>\n",
              "</div>\n",
              "    <div class=\"colab-df-buttons\">\n",
              "\n",
              "  <div class=\"colab-df-container\">\n",
              "    <button class=\"colab-df-convert\" onclick=\"convertToInteractive('df-02d87a1f-d0f2-47eb-adb4-6f3c9fff01fc')\"\n",
              "            title=\"Convert this dataframe to an interactive table.\"\n",
              "            style=\"display:none;\">\n",
              "\n",
              "  <svg xmlns=\"http://www.w3.org/2000/svg\" height=\"24px\" viewBox=\"0 -960 960 960\">\n",
              "    <path d=\"M120-120v-720h720v720H120Zm60-500h600v-160H180v160Zm220 220h160v-160H400v160Zm0 220h160v-160H400v160ZM180-400h160v-160H180v160Zm440 0h160v-160H620v160ZM180-180h160v-160H180v160Zm440 0h160v-160H620v160Z\"/>\n",
              "  </svg>\n",
              "    </button>\n",
              "\n",
              "  <style>\n",
              "    .colab-df-container {\n",
              "      display:flex;\n",
              "      gap: 12px;\n",
              "    }\n",
              "\n",
              "    .colab-df-convert {\n",
              "      background-color: #E8F0FE;\n",
              "      border: none;\n",
              "      border-radius: 50%;\n",
              "      cursor: pointer;\n",
              "      display: none;\n",
              "      fill: #1967D2;\n",
              "      height: 32px;\n",
              "      padding: 0 0 0 0;\n",
              "      width: 32px;\n",
              "    }\n",
              "\n",
              "    .colab-df-convert:hover {\n",
              "      background-color: #E2EBFA;\n",
              "      box-shadow: 0px 1px 2px rgba(60, 64, 67, 0.3), 0px 1px 3px 1px rgba(60, 64, 67, 0.15);\n",
              "      fill: #174EA6;\n",
              "    }\n",
              "\n",
              "    .colab-df-buttons div {\n",
              "      margin-bottom: 4px;\n",
              "    }\n",
              "\n",
              "    [theme=dark] .colab-df-convert {\n",
              "      background-color: #3B4455;\n",
              "      fill: #D2E3FC;\n",
              "    }\n",
              "\n",
              "    [theme=dark] .colab-df-convert:hover {\n",
              "      background-color: #434B5C;\n",
              "      box-shadow: 0px 1px 3px 1px rgba(0, 0, 0, 0.15);\n",
              "      filter: drop-shadow(0px 1px 2px rgba(0, 0, 0, 0.3));\n",
              "      fill: #FFFFFF;\n",
              "    }\n",
              "  </style>\n",
              "\n",
              "    <script>\n",
              "      const buttonEl =\n",
              "        document.querySelector('#df-02d87a1f-d0f2-47eb-adb4-6f3c9fff01fc button.colab-df-convert');\n",
              "      buttonEl.style.display =\n",
              "        google.colab.kernel.accessAllowed ? 'block' : 'none';\n",
              "\n",
              "      async function convertToInteractive(key) {\n",
              "        const element = document.querySelector('#df-02d87a1f-d0f2-47eb-adb4-6f3c9fff01fc');\n",
              "        const dataTable =\n",
              "          await google.colab.kernel.invokeFunction('convertToInteractive',\n",
              "                                                    [key], {});\n",
              "        if (!dataTable) return;\n",
              "\n",
              "        const docLinkHtml = 'Like what you see? Visit the ' +\n",
              "          '<a target=\"_blank\" href=https://colab.research.google.com/notebooks/data_table.ipynb>data table notebook</a>'\n",
              "          + ' to learn more about interactive tables.';\n",
              "        element.innerHTML = '';\n",
              "        dataTable['output_type'] = 'display_data';\n",
              "        await google.colab.output.renderOutput(dataTable, element);\n",
              "        const docLink = document.createElement('div');\n",
              "        docLink.innerHTML = docLinkHtml;\n",
              "        element.appendChild(docLink);\n",
              "      }\n",
              "    </script>\n",
              "  </div>\n",
              "\n",
              "\n",
              "<div id=\"df-0f582a1f-68b9-48f7-86d3-e4849d10d293\">\n",
              "  <button class=\"colab-df-quickchart\" onclick=\"quickchart('df-0f582a1f-68b9-48f7-86d3-e4849d10d293')\"\n",
              "            title=\"Suggest charts.\"\n",
              "            style=\"display:none;\">\n",
              "\n",
              "<svg xmlns=\"http://www.w3.org/2000/svg\" height=\"24px\"viewBox=\"0 0 24 24\"\n",
              "     width=\"24px\">\n",
              "    <g>\n",
              "        <path d=\"M19 3H5c-1.1 0-2 .9-2 2v14c0 1.1.9 2 2 2h14c1.1 0 2-.9 2-2V5c0-1.1-.9-2-2-2zM9 17H7v-7h2v7zm4 0h-2V7h2v10zm4 0h-2v-4h2v4z\"/>\n",
              "    </g>\n",
              "</svg>\n",
              "  </button>\n",
              "\n",
              "<style>\n",
              "  .colab-df-quickchart {\n",
              "    background-color: #E8F0FE;\n",
              "    border: none;\n",
              "    border-radius: 50%;\n",
              "    cursor: pointer;\n",
              "    display: none;\n",
              "    fill: #1967D2;\n",
              "    height: 32px;\n",
              "    padding: 0 0 0 0;\n",
              "    width: 32px;\n",
              "  }\n",
              "\n",
              "  .colab-df-quickchart:hover {\n",
              "    background-color: #E2EBFA;\n",
              "    box-shadow: 0px 1px 2px rgba(60, 64, 67, 0.3), 0px 1px 3px 1px rgba(60, 64, 67, 0.15);\n",
              "    fill: #174EA6;\n",
              "  }\n",
              "\n",
              "  [theme=dark] .colab-df-quickchart {\n",
              "    background-color: #3B4455;\n",
              "    fill: #D2E3FC;\n",
              "  }\n",
              "\n",
              "  [theme=dark] .colab-df-quickchart:hover {\n",
              "    background-color: #434B5C;\n",
              "    box-shadow: 0px 1px 3px 1px rgba(0, 0, 0, 0.15);\n",
              "    filter: drop-shadow(0px 1px 2px rgba(0, 0, 0, 0.3));\n",
              "    fill: #FFFFFF;\n",
              "  }\n",
              "</style>\n",
              "\n",
              "  <script>\n",
              "    async function quickchart(key) {\n",
              "      const charts = await google.colab.kernel.invokeFunction(\n",
              "          'suggestCharts', [key], {});\n",
              "    }\n",
              "    (() => {\n",
              "      let quickchartButtonEl =\n",
              "        document.querySelector('#df-0f582a1f-68b9-48f7-86d3-e4849d10d293 button');\n",
              "      quickchartButtonEl.style.display =\n",
              "        google.colab.kernel.accessAllowed ? 'block' : 'none';\n",
              "    })();\n",
              "  </script>\n",
              "</div>\n",
              "    </div>\n",
              "  </div>\n"
            ]
          },
          "metadata": {},
          "execution_count": 18
        }
      ]
    },
    {
      "cell_type": "markdown",
      "source": [
        "# **Define Label and Features**"
      ],
      "metadata": {
        "id": "ee7BfyweNi-D"
      }
    },
    {
      "cell_type": "code",
      "source": [
        "df.columns"
      ],
      "metadata": {
        "colab": {
          "base_uri": "https://localhost:8080/"
        },
        "id": "-rAH3jSlNr7c",
        "outputId": "b334e691-8d77-4d75-f296-95f0697605c8"
      },
      "execution_count": 19,
      "outputs": [
        {
          "output_type": "execute_result",
          "data": {
            "text/plain": [
              "Index(['Surname', 'CreditScore', 'Geography', 'Gender', 'Age', 'Tenure',\n",
              "       'Balance', 'Num Of Products', 'Has Credit Card', 'Is Active Member',\n",
              "       'Estimated Salary', 'Churn', 'Zero_Balance'],\n",
              "      dtype='object')"
            ]
          },
          "metadata": {},
          "execution_count": 19
        }
      ]
    },
    {
      "cell_type": "code",
      "source": [
        "X = df.drop(['Surname', 'Churn'], axis=1)\n",
        "Y = df['Churn']"
      ],
      "metadata": {
        "id": "pBF1Aj2AUTkM"
      },
      "execution_count": 20,
      "outputs": []
    },
    {
      "cell_type": "code",
      "source": [
        "X.shape, Y.shape"
      ],
      "metadata": {
        "colab": {
          "base_uri": "https://localhost:8080/"
        },
        "id": "iZoj8BmsUUrp",
        "outputId": "71e5ee6c-4011-4538-d6b1-64209fbf2348"
      },
      "execution_count": 21,
      "outputs": [
        {
          "output_type": "execute_result",
          "data": {
            "text/plain": [
              "((10000, 11), (10000,))"
            ]
          },
          "metadata": {},
          "execution_count": 21
        }
      ]
    },
    {
      "cell_type": "markdown",
      "source": [
        "# **Handling Imbalance Data**"
      ],
      "metadata": {
        "id": "PKykIJRFNsbQ"
      }
    },
    {
      "cell_type": "markdown",
      "source": [
        "Class Imbalance is a common problem in machine learning, especially in classification problems as machine learning algorithms are designed to maximize accuracy and reduce errors. If the data set is imbalance then in such cases, just by predicting the majority class we get a pretty high accuracy, but fails to capture the minority class.\n",
        "\n",
        "1) Undersampling\n",
        "\n",
        "Undersampling can be defined as removing some observations of the majority class. This is done until the majority and minority class is balanced out.\n",
        "\n",
        "Undersampling can be a good choice when you have a ton of data-think millions of rows. But a drawback to undersampling is that we are removing information that may be valuable.\n",
        "\n",
        "\n",
        "2) Oversampling\n",
        "\n",
        "Oversampling can be defined as adding more copies to the minority class. Oversampling can be a good choice when you don't have a ton of data to work with.\n",
        "\n",
        "The simplest implementation of over-sampling is to duplicate random records from the minority class, which can cause overfiting.\n"
      ],
      "metadata": {
        "id": "WsO5-YEYZPyP"
      }
    },
    {
      "cell_type": "markdown",
      "source": [
        "![Under and over sampling.jpg](data:image/jpeg;base64,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)"
      ],
      "metadata": {
        "id": "QdvB2hZFZq9Z"
      }
    },
    {
      "cell_type": "code",
      "source": [
        "df['Churn'].value_counts()"
      ],
      "metadata": {
        "colab": {
          "base_uri": "https://localhost:8080/"
        },
        "id": "18cfZBOTXBWH",
        "outputId": "37825aba-6a86-46e9-e8ca-612a6747d450"
      },
      "execution_count": 22,
      "outputs": [
        {
          "output_type": "execute_result",
          "data": {
            "text/plain": [
              "0    7963\n",
              "1    2037\n",
              "Name: Churn, dtype: int64"
            ]
          },
          "metadata": {},
          "execution_count": 22
        }
      ]
    },
    {
      "cell_type": "code",
      "source": [
        "sns.countplot(x='Churn', data=df)\n",
        "plt.show()"
      ],
      "metadata": {
        "colab": {
          "base_uri": "https://localhost:8080/",
          "height": 449
        },
        "id": "MfXk2xO7Z5bf",
        "outputId": "6b971e05-698d-4777-d1b7-a279bdd7f090"
      },
      "execution_count": 23,
      "outputs": [
        {
          "output_type": "display_data",
          "data": {
            "text/plain": [
              "<Figure size 640x480 with 1 Axes>"
            ],
            "image/png": "[encoded data removed]"
          },
          "metadata": {}
        }
      ]
    },
    {
      "cell_type": "markdown",
      "source": [
        "# **Random Undersampling**"
      ],
      "metadata": {
        "id": "op6DtTQ9anoG"
      }
    },
    {
      "cell_type": "code",
      "source": [
        "from imblearn.under_sampling import RandomUnderSampler"
      ],
      "metadata": {
        "id": "6tvjYDJEaqX7"
      },
      "execution_count": 24,
      "outputs": []
    },
    {
      "cell_type": "code",
      "source": [
        "rus = RandomUnderSampler(random_state=256)\n",
        "X_rus, Y_rus = rus.fit_resample(X, Y)"
      ],
      "metadata": {
        "id": "wDht48Wfa8RE"
      },
      "execution_count": 25,
      "outputs": []
    },
    {
      "cell_type": "code",
      "source": [
        "X_rus.shape, Y_rus.shape, X.shape, Y.shape"
      ],
      "metadata": {
        "colab": {
          "base_uri": "https://localhost:8080/"
        },
        "id": "e7P9wBg7bKFj",
        "outputId": "7735a5d6-1f54-49c0-f52c-dc3f432ea6ec"
      },
      "execution_count": 26,
      "outputs": [
        {
          "output_type": "execute_result",
          "data": {
            "text/plain": [
              "((4074, 11), (4074,), (10000, 11), (10000,))"
            ]
          },
          "metadata": {},
          "execution_count": 26
        }
      ]
    },
    {
      "cell_type": "code",
      "source": [
        "Y.value_counts()"
      ],
      "metadata": {
        "colab": {
          "base_uri": "https://localhost:8080/"
        },
        "id": "gpK80utObRhK",
        "outputId": "a021bf3a-d1b4-4d8b-c5aa-061b88314944"
      },
      "execution_count": 27,
      "outputs": [
        {
          "output_type": "execute_result",
          "data": {
            "text/plain": [
              "0    7963\n",
              "1    2037\n",
              "Name: Churn, dtype: int64"
            ]
          },
          "metadata": {},
          "execution_count": 27
        }
      ]
    },
    {
      "cell_type": "code",
      "source": [
        "Y_rus.value_counts()"
      ],
      "metadata": {
        "colab": {
          "base_uri": "https://localhost:8080/"
        },
        "id": "Y_B8rWzLbXQ0",
        "outputId": "ca2833f1-28a9-4372-92b6-5991064b1e00"
      },
      "execution_count": 28,
      "outputs": [
        {
          "output_type": "execute_result",
          "data": {
            "text/plain": [
              "0    2037\n",
              "1    2037\n",
              "Name: Churn, dtype: int64"
            ]
          },
          "metadata": {},
          "execution_count": 28
        }
      ]
    },
    {
      "cell_type": "code",
      "source": [
        "Y_rus.plot(kind='hist')\n",
        "plt.show()"
      ],
      "metadata": {
        "colab": {
          "base_uri": "https://localhost:8080/",
          "height": 430
        },
        "id": "cRDnp3BUba_i",
        "outputId": "42d6b663-5f61-4b1b-9c15-236b9971a4f6"
      },
      "execution_count": 29,
      "outputs": [
        {
          "output_type": "display_data",
          "data": {
            "text/plain": [
              "<Figure size 640x480 with 1 Axes>"
            ],
            "image/png": "[encoded data removed]"
          },
          "metadata": {}
        }
      ]
    },
    {
      "cell_type": "markdown",
      "source": [
        "# **Random Oversampling**"
      ],
      "metadata": {
        "id": "xb8Gl2k9bzDE"
      }
    },
    {
      "cell_type": "code",
      "source": [
        "from imblearn.over_sampling import RandomOverSampler"
      ],
      "metadata": {
        "id": "3qRAMfO2bgo1"
      },
      "execution_count": 30,
      "outputs": []
    },
    {
      "cell_type": "code",
      "source": [
        "ros = RandomOverSampler(random_state=256)\n",
        "X_ros, Y_ros = ros.fit_resample(X, Y)"
      ],
      "metadata": {
        "id": "eBb5sNFVb1Wk"
      },
      "execution_count": 31,
      "outputs": []
    },
    {
      "cell_type": "code",
      "source": [
        "X_ros.shape, Y_ros.shape, X.shape, Y.shape"
      ],
      "metadata": {
        "colab": {
          "base_uri": "https://localhost:8080/"
        },
        "id": "5W4v03Ndb1Zj",
        "outputId": "20a55062-763f-481d-e09b-0ebd7df9b19f"
      },
      "execution_count": 32,
      "outputs": [
        {
          "output_type": "execute_result",
          "data": {
            "text/plain": [
              "((15926, 11), (15926,), (10000, 11), (10000,))"
            ]
          },
          "metadata": {},
          "execution_count": 32
        }
      ]
    },
    {
      "cell_type": "code",
      "source": [
        "Y.value_counts()"
      ],
      "metadata": {
        "colab": {
          "base_uri": "https://localhost:8080/"
        },
        "id": "ykYa7u_hb1cM",
        "outputId": "0de3e588-0a09-4df0-9977-d315089c5d2a"
      },
      "execution_count": 33,
      "outputs": [
        {
          "output_type": "execute_result",
          "data": {
            "text/plain": [
              "0    7963\n",
              "1    2037\n",
              "Name: Churn, dtype: int64"
            ]
          },
          "metadata": {},
          "execution_count": 33
        }
      ]
    },
    {
      "cell_type": "code",
      "source": [
        "Y_ros.value_counts()"
      ],
      "metadata": {
        "colab": {
          "base_uri": "https://localhost:8080/"
        },
        "id": "pH5U4zszcLRs",
        "outputId": "b41dcf87-46b3-463f-9b5b-685032e063e6"
      },
      "execution_count": 34,
      "outputs": [
        {
          "output_type": "execute_result",
          "data": {
            "text/plain": [
              "1    7963\n",
              "0    7963\n",
              "Name: Churn, dtype: int64"
            ]
          },
          "metadata": {},
          "execution_count": 34
        }
      ]
    },
    {
      "cell_type": "code",
      "source": [
        "Y_ros.plot(kind='hist')\n",
        "plt.show()"
      ],
      "metadata": {
        "colab": {
          "base_uri": "https://localhost:8080/",
          "height": 430
        },
        "id": "VmtA7-RVcNy8",
        "outputId": "af3fd8f8-bc18-43c2-d6d0-2ab97bd85909"
      },
      "execution_count": 35,
      "outputs": [
        {
          "output_type": "display_data",
          "data": {
            "text/plain": [
              "<Figure size 640x480 with 1 Axes>"
            ],
            "image/png": "[encoded data removed]"
          },
          "metadata": {}
        }
      ]
    },
    {
      "cell_type": "markdown",
      "source": [
        "# **Train Test Split**"
      ],
      "metadata": {
        "id": "TZAaE8oOctxD"
      }
    },
    {
      "cell_type": "code",
      "source": [
        "from sklearn.model_selection import train_test_split"
      ],
      "metadata": {
        "id": "R2u45IH7c0KA"
      },
      "execution_count": 36,
      "outputs": []
    },
    {
      "cell_type": "markdown",
      "source": [
        "# **Split Original Data**"
      ],
      "metadata": {
        "id": "iD4p063oc2QB"
      }
    },
    {
      "cell_type": "code",
      "source": [
        "X_train, X_test, Y_train, Y_test = train_test_split(X, Y, test_size=0.3, random_state=256)"
      ],
      "metadata": {
        "id": "bisZmwG4c2AS"
      },
      "execution_count": 37,
      "outputs": []
    },
    {
      "cell_type": "markdown",
      "source": [
        "# **Split Random Undersampled Data**"
      ],
      "metadata": {
        "id": "9ExzbI-uc93I"
      }
    },
    {
      "cell_type": "code",
      "source": [
        "X_train_rus, X_test_rus, Y_train_rus, Y_test_rus = train_test_split(X_rus, Y_rus, test_size=0.3, random_state=256)"
      ],
      "metadata": {
        "id": "z67Y_ImxdGje"
      },
      "execution_count": 38,
      "outputs": []
    },
    {
      "cell_type": "markdown",
      "source": [
        "# **Split Random Oversampled Data**"
      ],
      "metadata": {
        "id": "NNvOVqMqdHAQ"
      }
    },
    {
      "cell_type": "code",
      "source": [
        "X_train_ros, X_test_ros, Y_train_ros, Y_test_ros = train_test_split(X_ros, Y_ros, test_size=0.3, random_state=256)"
      ],
      "metadata": {
        "id": "osun0_8vdILz"
      },
      "execution_count": 39,
      "outputs": []
    },
    {
      "cell_type": "markdown",
      "source": [
        "# **Standardize Features**"
      ],
      "metadata": {
        "id": "Ng72JZ68eHOb"
      }
    },
    {
      "cell_type": "code",
      "source": [
        "from sklearn.preprocessing import StandardScaler"
      ],
      "metadata": {
        "id": "RfGirdZyeALt"
      },
      "execution_count": 40,
      "outputs": []
    },
    {
      "cell_type": "code",
      "source": [
        "sc = StandardScaler()"
      ],
      "metadata": {
        "id": "wcXe8MmQeb-f"
      },
      "execution_count": 41,
      "outputs": []
    },
    {
      "cell_type": "markdown",
      "source": [
        "# **Standardize Original Data**"
      ],
      "metadata": {
        "id": "hTX1efMveNyo"
      }
    },
    {
      "cell_type": "code",
      "source": [
        "X_train[['CreditScore', 'Age', 'Tenure', 'Balance', 'Estimated Salary']] = sc.fit_transform(X_train[['CreditScore', 'Age', 'Tenure', 'Balance', 'Estimated Salary']])\n",
        "X_test[['CreditScore', 'Age', 'Tenure', 'Balance', 'Estimated Salary']] = sc.fit_transform(X_test[['CreditScore', 'Age', 'Tenure', 'Balance', 'Estimated Salary']])"
      ],
      "metadata": {
        "id": "XyBdFt_ieP3G"
      },
      "execution_count": 42,
      "outputs": []
    },
    {
      "cell_type": "markdown",
      "source": [
        "# **Standardize Random Undersampled Data**"
      ],
      "metadata": {
        "id": "pkeIwgUbfTt5"
      }
    },
    {
      "cell_type": "code",
      "source": [
        "X_train_rus[['CreditScore', 'Age', 'Tenure', 'Balance', 'Estimated Salary']] = sc.fit_transform(X_train_rus[['CreditScore', 'Age', 'Tenure', 'Balance', 'Estimated Salary']])\n",
        "X_test_rus[['CreditScore', 'Age', 'Tenure', 'Balance', 'Estimated Salary']] = sc.fit_transform(X_test_rus[['CreditScore', 'Age', 'Tenure', 'Balance', 'Estimated Salary']])"
      ],
      "metadata": {
        "id": "6YfvNPIXfCrG"
      },
      "execution_count": 43,
      "outputs": []
    },
    {
      "cell_type": "markdown",
      "source": [
        "# **Standardize Random Oversampled Data**"
      ],
      "metadata": {
        "id": "As3fUbRYfZTN"
      }
    },
    {
      "cell_type": "code",
      "source": [
        "X_train_ros[['CreditScore', 'Age', 'Tenure', 'Balance', 'Estimated Salary']] = sc.fit_transform(X_train_ros[['CreditScore', 'Age', 'Tenure', 'Balance', 'Estimated Salary']])\n",
        "X_test_ros[['CreditScore', 'Age', 'Tenure', 'Balance', 'Estimated Salary']] = sc.fit_transform(X_test_ros[['CreditScore', 'Age', 'Tenure', 'Balance', 'Estimated Salary']])"
      ],
      "metadata": {
        "id": "NlW5ai8MfbU-"
      },
      "execution_count": 44,
      "outputs": []
    },
    {
      "cell_type": "markdown",
      "source": [
        "# **Support Vector Machine Classifier**"
      ],
      "metadata": {
        "id": "EkW_0qY7fzIc"
      }
    },
    {
      "cell_type": "code",
      "source": [
        "from sklearn.svm import SVC"
      ],
      "metadata": {
        "id": "xME1S7uffs65"
      },
      "execution_count": 45,
      "outputs": []
    },
    {
      "cell_type": "code",
      "source": [
        "svc = SVC()\n",
        "svc.fit(X_train, Y_train)"
      ],
      "metadata": {
        "colab": {
          "base_uri": "https://localhost:8080/",
          "height": 74
        },
        "id": "fz4tHaO8f_w2",
        "outputId": "f7645687-aa09-44ab-8402-dd656d4a530d"
      },
      "execution_count": 46,
      "outputs": [
        {
          "output_type": "execute_result",
          "data": {
            "text/plain": [
              "SVC()"
            ],
            "text/html": [
              "<style>#sk-container-id-1 {color: black;background-color: white;}#sk-container-id-1 pre{padding: 0;}#sk-container-id-1 div.sk-toggleable {background-color: white;}#sk-container-id-1 label.sk-toggleable__label {cursor: pointer;display: block;width: 100%;margin-bottom: 0;padding: 0.3em;box-sizing: border-box;text-align: center;}#sk-container-id-1 label.sk-toggleable__label-arrow:before {content: \"▸\";float: left;margin-right: 0.25em;color: #696969;}#sk-container-id-1 label.sk-toggleable__label-arrow:hover:before {color: black;}#sk-container-id-1 div.sk-estimator:hover label.sk-toggleable__label-arrow:before {color: black;}#sk-container-id-1 div.sk-toggleable__content {max-height: 0;max-width: 0;overflow: hidden;text-align: left;background-color: #f0f8ff;}#sk-container-id-1 div.sk-toggleable__content pre {margin: 0.2em;color: black;border-radius: 0.25em;background-color: #f0f8ff;}#sk-container-id-1 input.sk-toggleable__control:checked~div.sk-toggleable__content {max-height: 200px;max-width: 100%;overflow: auto;}#sk-container-id-1 input.sk-toggleable__control:checked~label.sk-toggleable__label-arrow:before {content: \"▾\";}#sk-container-id-1 div.sk-estimator input.sk-toggleable__control:checked~label.sk-toggleable__label {background-color: #d4ebff;}#sk-container-id-1 div.sk-label input.sk-toggleable__control:checked~label.sk-toggleable__label {background-color: #d4ebff;}#sk-container-id-1 input.sk-hidden--visually {border: 0;clip: rect(1px 1px 1px 1px);clip: rect(1px, 1px, 1px, 1px);height: 1px;margin: -1px;overflow: hidden;padding: 0;position: absolute;width: 1px;}#sk-container-id-1 div.sk-estimator {font-family: monospace;background-color: #f0f8ff;border: 1px dotted black;border-radius: 0.25em;box-sizing: border-box;margin-bottom: 0.5em;}#sk-container-id-1 div.sk-estimator:hover {background-color: #d4ebff;}#sk-container-id-1 div.sk-parallel-item::after {content: \"\";width: 100%;border-bottom: 1px solid gray;flex-grow: 1;}#sk-container-id-1 div.sk-label:hover label.sk-toggleable__label {background-color: #d4ebff;}#sk-container-id-1 div.sk-serial::before {content: \"\";position: absolute;border-left: 1px solid gray;box-sizing: border-box;top: 0;bottom: 0;left: 50%;z-index: 0;}#sk-container-id-1 div.sk-serial {display: flex;flex-direction: column;align-items: center;background-color: white;padding-right: 0.2em;padding-left: 0.2em;position: relative;}#sk-container-id-1 div.sk-item {position: relative;z-index: 1;}#sk-container-id-1 div.sk-parallel {display: flex;align-items: stretch;justify-content: center;background-color: white;position: relative;}#sk-container-id-1 div.sk-item::before, #sk-container-id-1 div.sk-parallel-item::before {content: \"\";position: absolute;border-left: 1px solid gray;box-sizing: border-box;top: 0;bottom: 0;left: 50%;z-index: -1;}#sk-container-id-1 div.sk-parallel-item {display: flex;flex-direction: column;z-index: 1;position: relative;background-color: white;}#sk-container-id-1 div.sk-parallel-item:first-child::after {align-self: flex-end;width: 50%;}#sk-container-id-1 div.sk-parallel-item:last-child::after {align-self: flex-start;width: 50%;}#sk-container-id-1 div.sk-parallel-item:only-child::after {width: 0;}#sk-container-id-1 div.sk-dashed-wrapped {border: 1px dashed gray;margin: 0 0.4em 0.5em 0.4em;box-sizing: border-box;padding-bottom: 0.4em;background-color: white;}#sk-container-id-1 div.sk-label label {font-family: monospace;font-weight: bold;display: inline-block;line-height: 1.2em;}#sk-container-id-1 div.sk-label-container {text-align: center;}#sk-container-id-1 div.sk-container {/* jupyter's `normalize.less` sets `[hidden] { display: none; }` but bootstrap.min.css set `[hidden] { display: none !important; }` so we also need the `!important` here to be able to override the default hidden behavior on the sphinx rendered scikit-learn.org. See: https://github.com/scikit-learn/scikit-learn/issues/21755 */display: inline-block !important;position: relative;}#sk-container-id-1 div.sk-text-repr-fallback {display: none;}</style><div id=\"sk-container-id-1\" class=\"sk-top-container\"><div class=\"sk-text-repr-fallback\"><pre>SVC()</pre><b>In a Jupyter environment, please rerun this cell to show the HTML representation or trust the notebook. <br />On GitHub, the HTML representation is unable to render, please try loading this page with nbviewer.org.</b></div><div class=\"sk-container\" hidden><div class=\"sk-item\"><div class=\"sk-estimator sk-toggleable\"><input class=\"sk-toggleable__control sk-hidden--visually\" id=\"sk-estimator-id-1\" type=\"checkbox\" checked><label for=\"sk-estimator-id-1\" class=\"sk-toggleable__label sk-toggleable__label-arrow\">SVC</label><div class=\"sk-toggleable__content\"><pre>SVC()</pre></div></div></div></div></div>"
            ]
          },
          "metadata": {},
          "execution_count": 46
        }
      ]
    },
    {
      "cell_type": "code",
      "source": [
        "y_pred = svc.predict(X_test)"
      ],
      "metadata": {
        "id": "boYaVvMZgIId"
      },
      "execution_count": 47,
      "outputs": []
    },
    {
      "cell_type": "markdown",
      "source": [
        "# **Model Accuracy**"
      ],
      "metadata": {
        "id": "mBWTRQfQgTDL"
      }
    },
    {
      "cell_type": "code",
      "source": [
        "from sklearn.metrics import confusion_matrix, classification_report"
      ],
      "metadata": {
        "id": "SbNZEpYXgNGx"
      },
      "execution_count": 48,
      "outputs": []
    },
    {
      "cell_type": "code",
      "source": [
        "print(\"Confusion Matrix:\\n\", confusion_matrix(Y_test, y_pred))"
      ],
      "metadata": {
        "colab": {
          "base_uri": "https://localhost:8080/"
        },
        "id": "bi09tuLVga5n",
        "outputId": "06c1838e-2a06-474e-e02c-7cb8cecf795b"
      },
      "execution_count": 49,
      "outputs": [
        {
          "output_type": "stream",
          "name": "stdout",
          "text": [
            "Confusion Matrix:\n",
            " [[2322   49]\n",
            " [ 461  168]]\n"
          ]
        }
      ]
    },
    {
      "cell_type": "code",
      "source": [
        "print(\"Classification Report:\\n\", classification_report(Y_test, y_pred))"
      ],
      "metadata": {
        "colab": {
          "base_uri": "https://localhost:8080/"
        },
        "id": "Ng2262mvggi_",
        "outputId": "7136de3a-37ad-4f00-8fe4-209b3541484a"
      },
      "execution_count": 50,
      "outputs": [
        {
          "output_type": "stream",
          "name": "stdout",
          "text": [
            "Classification Report:\n",
            "               precision    recall  f1-score   support\n",
            "\n",
            "           0       0.83      0.98      0.90      2371\n",
            "           1       0.77      0.27      0.40       629\n",
            "\n",
            "    accuracy                           0.83      3000\n",
            "   macro avg       0.80      0.62      0.65      3000\n",
            "weighted avg       0.82      0.83      0.80      3000\n",
            "\n"
          ]
        }
      ]
    },
    {
      "cell_type": "markdown",
      "source": [
        "# **Hyperparameter Tuning**"
      ],
      "metadata": {
        "id": "chelWkMehr7k"
      }
    },
    {
      "cell_type": "code",
      "source": [
        "from sklearn.model_selection import GridSearchCV"
      ],
      "metadata": {
        "id": "f90L8QOKglte"
      },
      "execution_count": 51,
      "outputs": []
    },
    {
      "cell_type": "code",
      "source": [
        "param_grid = {'C' : [0.1, 1, 10],\n",
        "              'gamma' : [1, 0.1, 0.01],\n",
        "              'kernel' : ['rbf'],\n",
        "              'class_weight' : ['balanced']}"
      ],
      "metadata": {
        "id": "V3PCQpnGhSWd"
      },
      "execution_count": 52,
      "outputs": []
    },
    {
      "cell_type": "code",
      "source": [
        "grid = GridSearchCV(SVC(), param_grid, refit=True, verbose=2, cv=2)\n",
        "grid.fit(X_train, Y_train)"
      ],
      "metadata": {
        "colab": {
          "base_uri": "https://localhost:8080/",
          "height": 455
        },
        "id": "zvVCuGSehkO9",
        "outputId": "139bce5b-2632-4bf3-8f0b-25e3c80064e7"
      },
      "execution_count": 53,
      "outputs": [
        {
          "output_type": "stream",
          "name": "stdout",
          "text": [
            "Fitting 2 folds for each of 9 candidates, totalling 18 fits\n",
            "[CV] END ..C=0.1, class_weight=balanced, gamma=1, kernel=rbf; total time=   3.3s\n",
            "[CV] END ..C=0.1, class_weight=balanced, gamma=1, kernel=rbf; total time=   3.7s\n",
            "[CV] END C=0.1, class_weight=balanced, gamma=0.1, kernel=rbf; total time=   3.0s\n",
            "[CV] END C=0.1, class_weight=balanced, gamma=0.1, kernel=rbf; total time=   3.9s\n",
            "[CV] END C=0.1, class_weight=balanced, gamma=0.01, kernel=rbf; total time=   2.8s\n",
            "[CV] END C=0.1, class_weight=balanced, gamma=0.01, kernel=rbf; total time=   2.9s\n",
            "[CV] END ....C=1, class_weight=balanced, gamma=1, kernel=rbf; total time=   4.1s\n",
            "[CV] END ....C=1, class_weight=balanced, gamma=1, kernel=rbf; total time=   4.4s\n",
            "[CV] END ..C=1, class_weight=balanced, gamma=0.1, kernel=rbf; total time=   1.0s\n",
            "[CV] END ..C=1, class_weight=balanced, gamma=0.1, kernel=rbf; total time=   1.0s\n",
            "[CV] END .C=1, class_weight=balanced, gamma=0.01, kernel=rbf; total time=   1.1s\n",
            "[CV] END .C=1, class_weight=balanced, gamma=0.01, kernel=rbf; total time=   1.1s\n",
            "[CV] END ...C=10, class_weight=balanced, gamma=1, kernel=rbf; total time=   1.3s\n",
            "[CV] END ...C=10, class_weight=balanced, gamma=1, kernel=rbf; total time=   1.3s\n",
            "[CV] END .C=10, class_weight=balanced, gamma=0.1, kernel=rbf; total time=   1.4s\n",
            "[CV] END .C=10, class_weight=balanced, gamma=0.1, kernel=rbf; total time=   1.9s\n",
            "[CV] END C=10, class_weight=balanced, gamma=0.01, kernel=rbf; total time=   1.1s\n",
            "[CV] END C=10, class_weight=balanced, gamma=0.01, kernel=rbf; total time=   1.0s\n"
          ]
        },
        {
          "output_type": "execute_result",
          "data": {
            "text/plain": [
              "GridSearchCV(cv=2, estimator=SVC(),\n",
              "             param_grid={'C': [0.1, 1, 10], 'class_weight': ['balanced'],\n",
              "                         'gamma': [1, 0.1, 0.01], 'kernel': ['rbf']},\n",
              "             verbose=2)"
            ],
            "text/html": [
              "<style>#sk-container-id-2 {color: black;background-color: white;}#sk-container-id-2 pre{padding: 0;}#sk-container-id-2 div.sk-toggleable {background-color: white;}#sk-container-id-2 label.sk-toggleable__label {cursor: pointer;display: block;width: 100%;margin-bottom: 0;padding: 0.3em;box-sizing: border-box;text-align: center;}#sk-container-id-2 label.sk-toggleable__label-arrow:before {content: \"▸\";float: left;margin-right: 0.25em;color: #696969;}#sk-container-id-2 label.sk-toggleable__label-arrow:hover:before {color: black;}#sk-container-id-2 div.sk-estimator:hover label.sk-toggleable__label-arrow:before {color: black;}#sk-container-id-2 div.sk-toggleable__content {max-height: 0;max-width: 0;overflow: hidden;text-align: left;background-color: #f0f8ff;}#sk-container-id-2 div.sk-toggleable__content pre {margin: 0.2em;color: black;border-radius: 0.25em;background-color: #f0f8ff;}#sk-container-id-2 input.sk-toggleable__control:checked~div.sk-toggleable__content {max-height: 200px;max-width: 100%;overflow: auto;}#sk-container-id-2 input.sk-toggleable__control:checked~label.sk-toggleable__label-arrow:before {content: \"▾\";}#sk-container-id-2 div.sk-estimator input.sk-toggleable__control:checked~label.sk-toggleable__label {background-color: #d4ebff;}#sk-container-id-2 div.sk-label input.sk-toggleable__control:checked~label.sk-toggleable__label {background-color: #d4ebff;}#sk-container-id-2 input.sk-hidden--visually {border: 0;clip: rect(1px 1px 1px 1px);clip: rect(1px, 1px, 1px, 1px);height: 1px;margin: -1px;overflow: hidden;padding: 0;position: absolute;width: 1px;}#sk-container-id-2 div.sk-estimator {font-family: monospace;background-color: #f0f8ff;border: 1px dotted black;border-radius: 0.25em;box-sizing: border-box;margin-bottom: 0.5em;}#sk-container-id-2 div.sk-estimator:hover {background-color: #d4ebff;}#sk-container-id-2 div.sk-parallel-item::after {content: \"\";width: 100%;border-bottom: 1px solid gray;flex-grow: 1;}#sk-container-id-2 div.sk-label:hover label.sk-toggleable__label {background-color: #d4ebff;}#sk-container-id-2 div.sk-serial::before {content: \"\";position: absolute;border-left: 1px solid gray;box-sizing: border-box;top: 0;bottom: 0;left: 50%;z-index: 0;}#sk-container-id-2 div.sk-serial {display: flex;flex-direction: column;align-items: center;background-color: white;padding-right: 0.2em;padding-left: 0.2em;position: relative;}#sk-container-id-2 div.sk-item {position: relative;z-index: 1;}#sk-container-id-2 div.sk-parallel {display: flex;align-items: stretch;justify-content: center;background-color: white;position: relative;}#sk-container-id-2 div.sk-item::before, #sk-container-id-2 div.sk-parallel-item::before {content: \"\";position: absolute;border-left: 1px solid gray;box-sizing: border-box;top: 0;bottom: 0;left: 50%;z-index: -1;}#sk-container-id-2 div.sk-parallel-item {display: flex;flex-direction: column;z-index: 1;position: relative;background-color: white;}#sk-container-id-2 div.sk-parallel-item:first-child::after {align-self: flex-end;width: 50%;}#sk-container-id-2 div.sk-parallel-item:last-child::after {align-self: flex-start;width: 50%;}#sk-container-id-2 div.sk-parallel-item:only-child::after {width: 0;}#sk-container-id-2 div.sk-dashed-wrapped {border: 1px dashed gray;margin: 0 0.4em 0.5em 0.4em;box-sizing: border-box;padding-bottom: 0.4em;background-color: white;}#sk-container-id-2 div.sk-label label {font-family: monospace;font-weight: bold;display: inline-block;line-height: 1.2em;}#sk-container-id-2 div.sk-label-container {text-align: center;}#sk-container-id-2 div.sk-container {/* jupyter's `normalize.less` sets `[hidden] { display: none; }` but bootstrap.min.css set `[hidden] { display: none !important; }` so we also need the `!important` here to be able to override the default hidden behavior on the sphinx rendered scikit-learn.org. See: https://github.com/scikit-learn/scikit-learn/issues/21755 */display: inline-block !important;position: relative;}#sk-container-id-2 div.sk-text-repr-fallback {display: none;}</style><div id=\"sk-container-id-2\" class=\"sk-top-container\"><div class=\"sk-text-repr-fallback\"><pre>GridSearchCV(cv=2, estimator=SVC(),\n",
              "             param_grid={&#x27;C&#x27;: [0.1, 1, 10], &#x27;class_weight&#x27;: [&#x27;balanced&#x27;],\n",
              "                         &#x27;gamma&#x27;: [1, 0.1, 0.01], &#x27;kernel&#x27;: [&#x27;rbf&#x27;]},\n",
              "             verbose=2)</pre><b>In a Jupyter environment, please rerun this cell to show the HTML representation or trust the notebook. <br />On GitHub, the HTML representation is unable to render, please try loading this page with nbviewer.org.</b></div><div class=\"sk-container\" hidden><div class=\"sk-item sk-dashed-wrapped\"><div class=\"sk-label-container\"><div class=\"sk-label sk-toggleable\"><input class=\"sk-toggleable__control sk-hidden--visually\" id=\"sk-estimator-id-2\" type=\"checkbox\" ><label for=\"sk-estimator-id-2\" class=\"sk-toggleable__label sk-toggleable__label-arrow\">GridSearchCV</label><div class=\"sk-toggleable__content\"><pre>GridSearchCV(cv=2, estimator=SVC(),\n",
              "             param_grid={&#x27;C&#x27;: [0.1, 1, 10], &#x27;class_weight&#x27;: [&#x27;balanced&#x27;],\n",
              "                         &#x27;gamma&#x27;: [1, 0.1, 0.01], &#x27;kernel&#x27;: [&#x27;rbf&#x27;]},\n",
              "             verbose=2)</pre></div></div></div><div class=\"sk-parallel\"><div class=\"sk-parallel-item\"><div class=\"sk-item\"><div class=\"sk-label-container\"><div class=\"sk-label sk-toggleable\"><input class=\"sk-toggleable__control sk-hidden--visually\" id=\"sk-estimator-id-3\" type=\"checkbox\" ><label for=\"sk-estimator-id-3\" class=\"sk-toggleable__label sk-toggleable__label-arrow\">estimator: SVC</label><div class=\"sk-toggleable__content\"><pre>SVC()</pre></div></div></div><div class=\"sk-serial\"><div class=\"sk-item\"><div class=\"sk-estimator sk-toggleable\"><input class=\"sk-toggleable__control sk-hidden--visually\" id=\"sk-estimator-id-4\" type=\"checkbox\" ><label for=\"sk-estimator-id-4\" class=\"sk-toggleable__label sk-toggleable__label-arrow\">SVC</label><div class=\"sk-toggleable__content\"><pre>SVC()</pre></div></div></div></div></div></div></div></div></div></div>"
            ]
          },
          "metadata": {},
          "execution_count": 53
        }
      ]
    },
    {
      "cell_type": "code",
      "source": [
        "print(grid.best_estimator_)"
      ],
      "metadata": {
        "colab": {
          "base_uri": "https://localhost:8080/"
        },
        "id": "W8-FthHgh1uP",
        "outputId": "81a4bb37-ba35-4571-c0b8-a0c6681ec5cb"
      },
      "execution_count": 54,
      "outputs": [
        {
          "output_type": "stream",
          "name": "stdout",
          "text": [
            "SVC(C=10, class_weight='balanced', gamma=1)\n"
          ]
        }
      ]
    },
    {
      "cell_type": "code",
      "source": [
        "grid_predictions = grid.predict(X_test)"
      ],
      "metadata": {
        "id": "TM4hNB0-iLma"
      },
      "execution_count": 55,
      "outputs": []
    },
    {
      "cell_type": "code",
      "source": [
        "print(\"Confusion Matrix:\\n\", confusion_matrix(Y_test, grid_predictions))"
      ],
      "metadata": {
        "colab": {
          "base_uri": "https://localhost:8080/"
        },
        "id": "9AeCUwMmiQ6R",
        "outputId": "85da5997-50c2-4da4-a6e3-fb55bbfb405e"
      },
      "execution_count": 56,
      "outputs": [
        {
          "output_type": "stream",
          "name": "stdout",
          "text": [
            "Confusion Matrix:\n",
            " [[2139  232]\n",
            " [ 418  211]]\n"
          ]
        }
      ]
    },
    {
      "cell_type": "code",
      "source": [
        "print(\"Classification Report:\\n\", classification_report(Y_test, grid_predictions))"
      ],
      "metadata": {
        "colab": {
          "base_uri": "https://localhost:8080/"
        },
        "id": "YG01YeaoiXgD",
        "outputId": "143ff3be-c91a-4e6c-b7fe-e70a1427e5d5"
      },
      "execution_count": 57,
      "outputs": [
        {
          "output_type": "stream",
          "name": "stdout",
          "text": [
            "Classification Report:\n",
            "               precision    recall  f1-score   support\n",
            "\n",
            "           0       0.84      0.90      0.87      2371\n",
            "           1       0.48      0.34      0.39       629\n",
            "\n",
            "    accuracy                           0.78      3000\n",
            "   macro avg       0.66      0.62      0.63      3000\n",
            "weighted avg       0.76      0.78      0.77      3000\n",
            "\n"
          ]
        }
      ]
    },
    {
      "cell_type": "markdown",
      "source": [
        "# **Model with Random Under Sampling**\n"
      ],
      "metadata": {
        "id": "-oPZx45QiyuZ"
      }
    },
    {
      "cell_type": "code",
      "source": [
        "svc_rus = SVC()\n",
        "svc_rus.fit(X_train_rus, Y_train_rus)"
      ],
      "metadata": {
        "colab": {
          "base_uri": "https://localhost:8080/",
          "height": 74
        },
        "id": "P2_YwVoQidoc",
        "outputId": "c5fa4729-1285-4587-9348-ca57794d11c6"
      },
      "execution_count": 58,
      "outputs": [
        {
          "output_type": "execute_result",
          "data": {
            "text/plain": [
              "SVC()"
            ],
            "text/html": [
              "<style>#sk-container-id-3 {color: black;background-color: white;}#sk-container-id-3 pre{padding: 0;}#sk-container-id-3 div.sk-toggleable {background-color: white;}#sk-container-id-3 label.sk-toggleable__label {cursor: pointer;display: block;width: 100%;margin-bottom: 0;padding: 0.3em;box-sizing: border-box;text-align: center;}#sk-container-id-3 label.sk-toggleable__label-arrow:before {content: \"▸\";float: left;margin-right: 0.25em;color: #696969;}#sk-container-id-3 label.sk-toggleable__label-arrow:hover:before {color: black;}#sk-container-id-3 div.sk-estimator:hover label.sk-toggleable__label-arrow:before {color: black;}#sk-container-id-3 div.sk-toggleable__content {max-height: 0;max-width: 0;overflow: hidden;text-align: left;background-color: #f0f8ff;}#sk-container-id-3 div.sk-toggleable__content pre {margin: 0.2em;color: black;border-radius: 0.25em;background-color: #f0f8ff;}#sk-container-id-3 input.sk-toggleable__control:checked~div.sk-toggleable__content {max-height: 200px;max-width: 100%;overflow: auto;}#sk-container-id-3 input.sk-toggleable__control:checked~label.sk-toggleable__label-arrow:before {content: \"▾\";}#sk-container-id-3 div.sk-estimator input.sk-toggleable__control:checked~label.sk-toggleable__label {background-color: #d4ebff;}#sk-container-id-3 div.sk-label input.sk-toggleable__control:checked~label.sk-toggleable__label {background-color: #d4ebff;}#sk-container-id-3 input.sk-hidden--visually {border: 0;clip: rect(1px 1px 1px 1px);clip: rect(1px, 1px, 1px, 1px);height: 1px;margin: -1px;overflow: hidden;padding: 0;position: absolute;width: 1px;}#sk-container-id-3 div.sk-estimator {font-family: monospace;background-color: #f0f8ff;border: 1px dotted black;border-radius: 0.25em;box-sizing: border-box;margin-bottom: 0.5em;}#sk-container-id-3 div.sk-estimator:hover {background-color: #d4ebff;}#sk-container-id-3 div.sk-parallel-item::after {content: \"\";width: 100%;border-bottom: 1px solid gray;flex-grow: 1;}#sk-container-id-3 div.sk-label:hover label.sk-toggleable__label {background-color: #d4ebff;}#sk-container-id-3 div.sk-serial::before {content: \"\";position: absolute;border-left: 1px solid gray;box-sizing: border-box;top: 0;bottom: 0;left: 50%;z-index: 0;}#sk-container-id-3 div.sk-serial {display: flex;flex-direction: column;align-items: center;background-color: white;padding-right: 0.2em;padding-left: 0.2em;position: relative;}#sk-container-id-3 div.sk-item {position: relative;z-index: 1;}#sk-container-id-3 div.sk-parallel {display: flex;align-items: stretch;justify-content: center;background-color: white;position: relative;}#sk-container-id-3 div.sk-item::before, #sk-container-id-3 div.sk-parallel-item::before {content: \"\";position: absolute;border-left: 1px solid gray;box-sizing: border-box;top: 0;bottom: 0;left: 50%;z-index: -1;}#sk-container-id-3 div.sk-parallel-item {display: flex;flex-direction: column;z-index: 1;position: relative;background-color: white;}#sk-container-id-3 div.sk-parallel-item:first-child::after {align-self: flex-end;width: 50%;}#sk-container-id-3 div.sk-parallel-item:last-child::after {align-self: flex-start;width: 50%;}#sk-container-id-3 div.sk-parallel-item:only-child::after {width: 0;}#sk-container-id-3 div.sk-dashed-wrapped {border: 1px dashed gray;margin: 0 0.4em 0.5em 0.4em;box-sizing: border-box;padding-bottom: 0.4em;background-color: white;}#sk-container-id-3 div.sk-label label {font-family: monospace;font-weight: bold;display: inline-block;line-height: 1.2em;}#sk-container-id-3 div.sk-label-container {text-align: center;}#sk-container-id-3 div.sk-container {/* jupyter's `normalize.less` sets `[hidden] { display: none; }` but bootstrap.min.css set `[hidden] { display: none !important; }` so we also need the `!important` here to be able to override the default hidden behavior on the sphinx rendered scikit-learn.org. See: https://github.com/scikit-learn/scikit-learn/issues/21755 */display: inline-block !important;position: relative;}#sk-container-id-3 div.sk-text-repr-fallback {display: none;}</style><div id=\"sk-container-id-3\" class=\"sk-top-container\"><div class=\"sk-text-repr-fallback\"><pre>SVC()</pre><b>In a Jupyter environment, please rerun this cell to show the HTML representation or trust the notebook. <br />On GitHub, the HTML representation is unable to render, please try loading this page with nbviewer.org.</b></div><div class=\"sk-container\" hidden><div class=\"sk-item\"><div class=\"sk-estimator sk-toggleable\"><input class=\"sk-toggleable__control sk-hidden--visually\" id=\"sk-estimator-id-5\" type=\"checkbox\" checked><label for=\"sk-estimator-id-5\" class=\"sk-toggleable__label sk-toggleable__label-arrow\">SVC</label><div class=\"sk-toggleable__content\"><pre>SVC()</pre></div></div></div></div></div>"
            ]
          },
          "metadata": {},
          "execution_count": 58
        }
      ]
    },
    {
      "cell_type": "code",
      "source": [
        "y_pred_rus = svc_rus.predict(X_test_rus)"
      ],
      "metadata": {
        "id": "JHw6Ggxwi76L"
      },
      "execution_count": 59,
      "outputs": []
    },
    {
      "cell_type": "markdown",
      "source": [
        "# **Model Accuracy**"
      ],
      "metadata": {
        "id": "YWp0BqRHjR9Y"
      }
    },
    {
      "cell_type": "code",
      "source": [
        "print(confusion_matrix(Y_test_rus, y_pred_rus))"
      ],
      "metadata": {
        "colab": {
          "base_uri": "https://localhost:8080/"
        },
        "id": "DgFeqGYGjDJG",
        "outputId": "6a4463c2-1767-4a9f-f741-da26b8cafa7c"
      },
      "execution_count": 60,
      "outputs": [
        {
          "output_type": "stream",
          "name": "stdout",
          "text": [
            "[[456 172]\n",
            " [168 427]]\n"
          ]
        }
      ]
    },
    {
      "cell_type": "code",
      "source": [
        "print(classification_report(Y_test_rus, y_pred_rus))"
      ],
      "metadata": {
        "colab": {
          "base_uri": "https://localhost:8080/"
        },
        "id": "6fDL_2qXjDOU",
        "outputId": "c4896de7-41d2-4a2b-b420-783c2ff2398e"
      },
      "execution_count": 61,
      "outputs": [
        {
          "output_type": "stream",
          "name": "stdout",
          "text": [
            "              precision    recall  f1-score   support\n",
            "\n",
            "           0       0.73      0.73      0.73       628\n",
            "           1       0.71      0.72      0.72       595\n",
            "\n",
            "    accuracy                           0.72      1223\n",
            "   macro avg       0.72      0.72      0.72      1223\n",
            "weighted avg       0.72      0.72      0.72      1223\n",
            "\n"
          ]
        }
      ]
    },
    {
      "cell_type": "markdown",
      "source": [
        "# **Hyperparameter Tuning**"
      ],
      "metadata": {
        "id": "VeAMfIhsjxrm"
      }
    },
    {
      "cell_type": "code",
      "source": [
        "param_grid = {'C' : [0.1, 1, 10],\n",
        "              'gamma' : [1, 0.1, 0.01],\n",
        "              'kernel': ['rbf'],\n",
        "              'class_weight': ['balanced']}"
      ],
      "metadata": {
        "id": "VGpWS5XGjzkV"
      },
      "execution_count": 62,
      "outputs": []
    },
    {
      "cell_type": "code",
      "source": [
        "grid_rus = GridSearchCV(SVC(), param_grid, verbose=2, cv=2)\n",
        "grid_rus.fit(X_train_rus, Y_train_rus)"
      ],
      "metadata": {
        "colab": {
          "base_uri": "https://localhost:8080/",
          "height": 455
        },
        "id": "I8bxzsSCj9SP",
        "outputId": "3fcc4927-258a-4f00-ea26-adb7bc5bea07"
      },
      "execution_count": 63,
      "outputs": [
        {
          "output_type": "stream",
          "name": "stdout",
          "text": [
            "Fitting 2 folds for each of 9 candidates, totalling 18 fits\n",
            "[CV] END ..C=0.1, class_weight=balanced, gamma=1, kernel=rbf; total time=   0.2s\n",
            "[CV] END ..C=0.1, class_weight=balanced, gamma=1, kernel=rbf; total time=   0.2s\n",
            "[CV] END C=0.1, class_weight=balanced, gamma=0.1, kernel=rbf; total time=   0.2s\n",
            "[CV] END C=0.1, class_weight=balanced, gamma=0.1, kernel=rbf; total time=   0.2s\n",
            "[CV] END C=0.1, class_weight=balanced, gamma=0.01, kernel=rbf; total time=   0.2s\n",
            "[CV] END C=0.1, class_weight=balanced, gamma=0.01, kernel=rbf; total time=   0.2s\n",
            "[CV] END ....C=1, class_weight=balanced, gamma=1, kernel=rbf; total time=   0.2s\n",
            "[CV] END ....C=1, class_weight=balanced, gamma=1, kernel=rbf; total time=   0.2s\n",
            "[CV] END ..C=1, class_weight=balanced, gamma=0.1, kernel=rbf; total time=   0.2s\n",
            "[CV] END ..C=1, class_weight=balanced, gamma=0.1, kernel=rbf; total time=   0.2s\n",
            "[CV] END .C=1, class_weight=balanced, gamma=0.01, kernel=rbf; total time=   0.2s\n",
            "[CV] END .C=1, class_weight=balanced, gamma=0.01, kernel=rbf; total time=   0.2s\n",
            "[CV] END ...C=10, class_weight=balanced, gamma=1, kernel=rbf; total time=   0.3s\n",
            "[CV] END ...C=10, class_weight=balanced, gamma=1, kernel=rbf; total time=   0.2s\n",
            "[CV] END .C=10, class_weight=balanced, gamma=0.1, kernel=rbf; total time=   0.2s\n",
            "[CV] END .C=10, class_weight=balanced, gamma=0.1, kernel=rbf; total time=   0.2s\n",
            "[CV] END C=10, class_weight=balanced, gamma=0.01, kernel=rbf; total time=   0.3s\n",
            "[CV] END C=10, class_weight=balanced, gamma=0.01, kernel=rbf; total time=   0.3s\n"
          ]
        },
        {
          "output_type": "execute_result",
          "data": {
            "text/plain": [
              "GridSearchCV(cv=2, estimator=SVC(),\n",
              "             param_grid={'C': [0.1, 1, 10], 'class_weight': ['balanced'],\n",
              "                         'gamma': [1, 0.1, 0.01], 'kernel': ['rbf']},\n",
              "             verbose=2)"
            ],
            "text/html": [
              "<style>#sk-container-id-4 {color: black;background-color: white;}#sk-container-id-4 pre{padding: 0;}#sk-container-id-4 div.sk-toggleable {background-color: white;}#sk-container-id-4 label.sk-toggleable__label {cursor: pointer;display: block;width: 100%;margin-bottom: 0;padding: 0.3em;box-sizing: border-box;text-align: center;}#sk-container-id-4 label.sk-toggleable__label-arrow:before {content: \"▸\";float: left;margin-right: 0.25em;color: #696969;}#sk-container-id-4 label.sk-toggleable__label-arrow:hover:before {color: black;}#sk-container-id-4 div.sk-estimator:hover label.sk-toggleable__label-arrow:before {color: black;}#sk-container-id-4 div.sk-toggleable__content {max-height: 0;max-width: 0;overflow: hidden;text-align: left;background-color: #f0f8ff;}#sk-container-id-4 div.sk-toggleable__content pre {margin: 0.2em;color: black;border-radius: 0.25em;background-color: #f0f8ff;}#sk-container-id-4 input.sk-toggleable__control:checked~div.sk-toggleable__content {max-height: 200px;max-width: 100%;overflow: auto;}#sk-container-id-4 input.sk-toggleable__control:checked~label.sk-toggleable__label-arrow:before {content: \"▾\";}#sk-container-id-4 div.sk-estimator input.sk-toggleable__control:checked~label.sk-toggleable__label {background-color: #d4ebff;}#sk-container-id-4 div.sk-label input.sk-toggleable__control:checked~label.sk-toggleable__label {background-color: #d4ebff;}#sk-container-id-4 input.sk-hidden--visually {border: 0;clip: rect(1px 1px 1px 1px);clip: rect(1px, 1px, 1px, 1px);height: 1px;margin: -1px;overflow: hidden;padding: 0;position: absolute;width: 1px;}#sk-container-id-4 div.sk-estimator {font-family: monospace;background-color: #f0f8ff;border: 1px dotted black;border-radius: 0.25em;box-sizing: border-box;margin-bottom: 0.5em;}#sk-container-id-4 div.sk-estimator:hover {background-color: #d4ebff;}#sk-container-id-4 div.sk-parallel-item::after {content: \"\";width: 100%;border-bottom: 1px solid gray;flex-grow: 1;}#sk-container-id-4 div.sk-label:hover label.sk-toggleable__label {background-color: #d4ebff;}#sk-container-id-4 div.sk-serial::before {content: \"\";position: absolute;border-left: 1px solid gray;box-sizing: border-box;top: 0;bottom: 0;left: 50%;z-index: 0;}#sk-container-id-4 div.sk-serial {display: flex;flex-direction: column;align-items: center;background-color: white;padding-right: 0.2em;padding-left: 0.2em;position: relative;}#sk-container-id-4 div.sk-item {position: relative;z-index: 1;}#sk-container-id-4 div.sk-parallel {display: flex;align-items: stretch;justify-content: center;background-color: white;position: relative;}#sk-container-id-4 div.sk-item::before, #sk-container-id-4 div.sk-parallel-item::before {content: \"\";position: absolute;border-left: 1px solid gray;box-sizing: border-box;top: 0;bottom: 0;left: 50%;z-index: -1;}#sk-container-id-4 div.sk-parallel-item {display: flex;flex-direction: column;z-index: 1;position: relative;background-color: white;}#sk-container-id-4 div.sk-parallel-item:first-child::after {align-self: flex-end;width: 50%;}#sk-container-id-4 div.sk-parallel-item:last-child::after {align-self: flex-start;width: 50%;}#sk-container-id-4 div.sk-parallel-item:only-child::after {width: 0;}#sk-container-id-4 div.sk-dashed-wrapped {border: 1px dashed gray;margin: 0 0.4em 0.5em 0.4em;box-sizing: border-box;padding-bottom: 0.4em;background-color: white;}#sk-container-id-4 div.sk-label label {font-family: monospace;font-weight: bold;display: inline-block;line-height: 1.2em;}#sk-container-id-4 div.sk-label-container {text-align: center;}#sk-container-id-4 div.sk-container {/* jupyter's `normalize.less` sets `[hidden] { display: none; }` but bootstrap.min.css set `[hidden] { display: none !important; }` so we also need the `!important` here to be able to override the default hidden behavior on the sphinx rendered scikit-learn.org. See: https://github.com/scikit-learn/scikit-learn/issues/21755 */display: inline-block !important;position: relative;}#sk-container-id-4 div.sk-text-repr-fallback {display: none;}</style><div id=\"sk-container-id-4\" class=\"sk-top-container\"><div class=\"sk-text-repr-fallback\"><pre>GridSearchCV(cv=2, estimator=SVC(),\n",
              "             param_grid={&#x27;C&#x27;: [0.1, 1, 10], &#x27;class_weight&#x27;: [&#x27;balanced&#x27;],\n",
              "                         &#x27;gamma&#x27;: [1, 0.1, 0.01], &#x27;kernel&#x27;: [&#x27;rbf&#x27;]},\n",
              "             verbose=2)</pre><b>In a Jupyter environment, please rerun this cell to show the HTML representation or trust the notebook. <br />On GitHub, the HTML representation is unable to render, please try loading this page with nbviewer.org.</b></div><div class=\"sk-container\" hidden><div class=\"sk-item sk-dashed-wrapped\"><div class=\"sk-label-container\"><div class=\"sk-label sk-toggleable\"><input class=\"sk-toggleable__control sk-hidden--visually\" id=\"sk-estimator-id-6\" type=\"checkbox\" ><label for=\"sk-estimator-id-6\" class=\"sk-toggleable__label sk-toggleable__label-arrow\">GridSearchCV</label><div class=\"sk-toggleable__content\"><pre>GridSearchCV(cv=2, estimator=SVC(),\n",
              "             param_grid={&#x27;C&#x27;: [0.1, 1, 10], &#x27;class_weight&#x27;: [&#x27;balanced&#x27;],\n",
              "                         &#x27;gamma&#x27;: [1, 0.1, 0.01], &#x27;kernel&#x27;: [&#x27;rbf&#x27;]},\n",
              "             verbose=2)</pre></div></div></div><div class=\"sk-parallel\"><div class=\"sk-parallel-item\"><div class=\"sk-item\"><div class=\"sk-label-container\"><div class=\"sk-label sk-toggleable\"><input class=\"sk-toggleable__control sk-hidden--visually\" id=\"sk-estimator-id-7\" type=\"checkbox\" ><label for=\"sk-estimator-id-7\" class=\"sk-toggleable__label sk-toggleable__label-arrow\">estimator: SVC</label><div class=\"sk-toggleable__content\"><pre>SVC()</pre></div></div></div><div class=\"sk-serial\"><div class=\"sk-item\"><div class=\"sk-estimator sk-toggleable\"><input class=\"sk-toggleable__control sk-hidden--visually\" id=\"sk-estimator-id-8\" type=\"checkbox\" ><label for=\"sk-estimator-id-8\" class=\"sk-toggleable__label sk-toggleable__label-arrow\">SVC</label><div class=\"sk-toggleable__content\"><pre>SVC()</pre></div></div></div></div></div></div></div></div></div></div>"
            ]
          },
          "metadata": {},
          "execution_count": 63
        }
      ]
    },
    {
      "cell_type": "code",
      "source": [
        "print(grid_rus.best_estimator_)"
      ],
      "metadata": {
        "colab": {
          "base_uri": "https://localhost:8080/"
        },
        "id": "6LBKxcWLkBpg",
        "outputId": "95ceb5bf-d714-4581-a789-add4dd3d7f8d"
      },
      "execution_count": 64,
      "outputs": [
        {
          "output_type": "stream",
          "name": "stdout",
          "text": [
            "SVC(C=1, class_weight='balanced', gamma=0.1)\n"
          ]
        }
      ]
    },
    {
      "cell_type": "code",
      "source": [
        "grid_predictions_rus = grid_rus.predict(X_test_rus)"
      ],
      "metadata": {
        "id": "wYkYDPsEk8BW"
      },
      "execution_count": 65,
      "outputs": []
    },
    {
      "cell_type": "code",
      "source": [
        "print(\"Confusion Matrix:\\n\", confusion_matrix(Y_test_rus, grid_predictions_rus))"
      ],
      "metadata": {
        "colab": {
          "base_uri": "https://localhost:8080/"
        },
        "id": "qEwfRN4Rk-DM",
        "outputId": "cae0d7fc-6a28-4c99-db45-b9f187a2a047"
      },
      "execution_count": 66,
      "outputs": [
        {
          "output_type": "stream",
          "name": "stdout",
          "text": [
            "Confusion Matrix:\n",
            " [[463 165]\n",
            " [169 426]]\n"
          ]
        }
      ]
    },
    {
      "cell_type": "code",
      "source": [
        "print(\"Classification Report:\\n\", classification_report(Y_test_rus, grid_predictions_rus))"
      ],
      "metadata": {
        "colab": {
          "base_uri": "https://localhost:8080/"
        },
        "id": "1J36Dl4_k_ho",
        "outputId": "89f78dd4-7a5d-4202-e501-fad9cd7753c8"
      },
      "execution_count": 67,
      "outputs": [
        {
          "output_type": "stream",
          "name": "stdout",
          "text": [
            "Classification Report:\n",
            "               precision    recall  f1-score   support\n",
            "\n",
            "           0       0.73      0.74      0.73       628\n",
            "           1       0.72      0.72      0.72       595\n",
            "\n",
            "    accuracy                           0.73      1223\n",
            "   macro avg       0.73      0.73      0.73      1223\n",
            "weighted avg       0.73      0.73      0.73      1223\n",
            "\n"
          ]
        }
      ]
    },
    {
      "cell_type": "markdown",
      "source": [
        "# **Model with Random Over Sampling**"
      ],
      "metadata": {
        "id": "1c3kOOWclt7l"
      }
    },
    {
      "cell_type": "code",
      "source": [
        "svc_ros = SVC()\n",
        "svc_ros.fit(X_train_ros, Y_train_ros)"
      ],
      "metadata": {
        "colab": {
          "base_uri": "https://localhost:8080/",
          "height": 74
        },
        "id": "dC3BLxITlIj2",
        "outputId": "e15f2298-51f8-408f-b647-e0154a598893"
      },
      "execution_count": 68,
      "outputs": [
        {
          "output_type": "execute_result",
          "data": {
            "text/plain": [
              "SVC()"
            ],
            "text/html": [
              "<style>#sk-container-id-5 {color: black;background-color: white;}#sk-container-id-5 pre{padding: 0;}#sk-container-id-5 div.sk-toggleable {background-color: white;}#sk-container-id-5 label.sk-toggleable__label {cursor: pointer;display: block;width: 100%;margin-bottom: 0;padding: 0.3em;box-sizing: border-box;text-align: center;}#sk-container-id-5 label.sk-toggleable__label-arrow:before {content: \"▸\";float: left;margin-right: 0.25em;color: #696969;}#sk-container-id-5 label.sk-toggleable__label-arrow:hover:before {color: black;}#sk-container-id-5 div.sk-estimator:hover label.sk-toggleable__label-arrow:before {color: black;}#sk-container-id-5 div.sk-toggleable__content {max-height: 0;max-width: 0;overflow: hidden;text-align: left;background-color: #f0f8ff;}#sk-container-id-5 div.sk-toggleable__content pre {margin: 0.2em;color: black;border-radius: 0.25em;background-color: #f0f8ff;}#sk-container-id-5 input.sk-toggleable__control:checked~div.sk-toggleable__content {max-height: 200px;max-width: 100%;overflow: auto;}#sk-container-id-5 input.sk-toggleable__control:checked~label.sk-toggleable__label-arrow:before {content: \"▾\";}#sk-container-id-5 div.sk-estimator input.sk-toggleable__control:checked~label.sk-toggleable__label {background-color: #d4ebff;}#sk-container-id-5 div.sk-label input.sk-toggleable__control:checked~label.sk-toggleable__label {background-color: #d4ebff;}#sk-container-id-5 input.sk-hidden--visually {border: 0;clip: rect(1px 1px 1px 1px);clip: rect(1px, 1px, 1px, 1px);height: 1px;margin: -1px;overflow: hidden;padding: 0;position: absolute;width: 1px;}#sk-container-id-5 div.sk-estimator {font-family: monospace;background-color: #f0f8ff;border: 1px dotted black;border-radius: 0.25em;box-sizing: border-box;margin-bottom: 0.5em;}#sk-container-id-5 div.sk-estimator:hover {background-color: #d4ebff;}#sk-container-id-5 div.sk-parallel-item::after {content: \"\";width: 100%;border-bottom: 1px solid gray;flex-grow: 1;}#sk-container-id-5 div.sk-label:hover label.sk-toggleable__label {background-color: #d4ebff;}#sk-container-id-5 div.sk-serial::before {content: \"\";position: absolute;border-left: 1px solid gray;box-sizing: border-box;top: 0;bottom: 0;left: 50%;z-index: 0;}#sk-container-id-5 div.sk-serial {display: flex;flex-direction: column;align-items: center;background-color: white;padding-right: 0.2em;padding-left: 0.2em;position: relative;}#sk-container-id-5 div.sk-item {position: relative;z-index: 1;}#sk-container-id-5 div.sk-parallel {display: flex;align-items: stretch;justify-content: center;background-color: white;position: relative;}#sk-container-id-5 div.sk-item::before, #sk-container-id-5 div.sk-parallel-item::before {content: \"\";position: absolute;border-left: 1px solid gray;box-sizing: border-box;top: 0;bottom: 0;left: 50%;z-index: -1;}#sk-container-id-5 div.sk-parallel-item {display: flex;flex-direction: column;z-index: 1;position: relative;background-color: white;}#sk-container-id-5 div.sk-parallel-item:first-child::after {align-self: flex-end;width: 50%;}#sk-container-id-5 div.sk-parallel-item:last-child::after {align-self: flex-start;width: 50%;}#sk-container-id-5 div.sk-parallel-item:only-child::after {width: 0;}#sk-container-id-5 div.sk-dashed-wrapped {border: 1px dashed gray;margin: 0 0.4em 0.5em 0.4em;box-sizing: border-box;padding-bottom: 0.4em;background-color: white;}#sk-container-id-5 div.sk-label label {font-family: monospace;font-weight: bold;display: inline-block;line-height: 1.2em;}#sk-container-id-5 div.sk-label-container {text-align: center;}#sk-container-id-5 div.sk-container {/* jupyter's `normalize.less` sets `[hidden] { display: none; }` but bootstrap.min.css set `[hidden] { display: none !important; }` so we also need the `!important` here to be able to override the default hidden behavior on the sphinx rendered scikit-learn.org. See: https://github.com/scikit-learn/scikit-learn/issues/21755 */display: inline-block !important;position: relative;}#sk-container-id-5 div.sk-text-repr-fallback {display: none;}</style><div id=\"sk-container-id-5\" class=\"sk-top-container\"><div class=\"sk-text-repr-fallback\"><pre>SVC()</pre><b>In a Jupyter environment, please rerun this cell to show the HTML representation or trust the notebook. <br />On GitHub, the HTML representation is unable to render, please try loading this page with nbviewer.org.</b></div><div class=\"sk-container\" hidden><div class=\"sk-item\"><div class=\"sk-estimator sk-toggleable\"><input class=\"sk-toggleable__control sk-hidden--visually\" id=\"sk-estimator-id-9\" type=\"checkbox\" checked><label for=\"sk-estimator-id-9\" class=\"sk-toggleable__label sk-toggleable__label-arrow\">SVC</label><div class=\"sk-toggleable__content\"><pre>SVC()</pre></div></div></div></div></div>"
            ]
          },
          "metadata": {},
          "execution_count": 68
        }
      ]
    },
    {
      "cell_type": "code",
      "source": [
        "y_pred_ros = svc_ros.predict(X_test_ros)"
      ],
      "metadata": {
        "id": "v8ootMn8l2D3"
      },
      "execution_count": 69,
      "outputs": []
    },
    {
      "cell_type": "markdown",
      "source": [
        "# Model Accuracy"
      ],
      "metadata": {
        "id": "XiGq2H5Plv_p"
      }
    },
    {
      "cell_type": "code",
      "source": [
        "print(confusion_matrix(Y_test_ros, y_pred_ros))"
      ],
      "metadata": {
        "colab": {
          "base_uri": "https://localhost:8080/"
        },
        "id": "-Cwiy8USlx9k",
        "outputId": "c2a705a8-6613-487f-9b5f-acb20a6b77f4"
      },
      "execution_count": 70,
      "outputs": [
        {
          "output_type": "stream",
          "name": "stdout",
          "text": [
            "[[1801  574]\n",
            " [ 568 1835]]\n"
          ]
        }
      ]
    },
    {
      "cell_type": "code",
      "source": [
        "print(classification_report(Y_test_ros, y_pred_ros))"
      ],
      "metadata": {
        "colab": {
          "base_uri": "https://localhost:8080/"
        },
        "id": "03azjT4Rl6LM",
        "outputId": "74432159-95f1-4248-f463-97675e45df1f"
      },
      "execution_count": 71,
      "outputs": [
        {
          "output_type": "stream",
          "name": "stdout",
          "text": [
            "              precision    recall  f1-score   support\n",
            "\n",
            "           0       0.76      0.76      0.76      2375\n",
            "           1       0.76      0.76      0.76      2403\n",
            "\n",
            "    accuracy                           0.76      4778\n",
            "   macro avg       0.76      0.76      0.76      4778\n",
            "weighted avg       0.76      0.76      0.76      4778\n",
            "\n"
          ]
        }
      ]
    },
    {
      "cell_type": "markdown",
      "source": [
        "# **Hyperparameter Tuning**"
      ],
      "metadata": {
        "id": "lOnBVCiEmjnR"
      }
    },
    {
      "cell_type": "code",
      "source": [
        "param_grid = {'C' : [0.1, 1, 10],\n",
        "              'gamma' : [1, 0.1, 0.01],\n",
        "              'kernel': ['rbf'],\n",
        "              'class_weight': ['balanced']}"
      ],
      "metadata": {
        "id": "j70grCDGl8F7"
      },
      "execution_count": 72,
      "outputs": []
    },
    {
      "cell_type": "code",
      "source": [
        "grid_ros = GridSearchCV(SVC(), param_grid, verbose=2, cv=2)\n",
        "grid_ros.fit(X_train_ros, Y_train_ros)"
      ],
      "metadata": {
        "colab": {
          "base_uri": "https://localhost:8080/",
          "height": 455
        },
        "id": "IT5c_Wg3mnJ5",
        "outputId": "fb9b87aa-0250-4e58-e81d-5912917e2c13"
      },
      "execution_count": 73,
      "outputs": [
        {
          "output_type": "stream",
          "name": "stdout",
          "text": [
            "Fitting 2 folds for each of 9 candidates, totalling 18 fits\n",
            "[CV] END ..C=0.1, class_weight=balanced, gamma=1, kernel=rbf; total time=   4.8s\n",
            "[CV] END ..C=0.1, class_weight=balanced, gamma=1, kernel=rbf; total time=   4.6s\n",
            "[CV] END C=0.1, class_weight=balanced, gamma=0.1, kernel=rbf; total time=   2.8s\n",
            "[CV] END C=0.1, class_weight=balanced, gamma=0.1, kernel=rbf; total time=   2.9s\n",
            "[CV] END C=0.1, class_weight=balanced, gamma=0.01, kernel=rbf; total time=   6.3s\n",
            "[CV] END C=0.1, class_weight=balanced, gamma=0.01, kernel=rbf; total time=   5.9s\n",
            "[CV] END ....C=1, class_weight=balanced, gamma=1, kernel=rbf; total time=   6.9s\n",
            "[CV] END ....C=1, class_weight=balanced, gamma=1, kernel=rbf; total time=   3.9s\n",
            "[CV] END ..C=1, class_weight=balanced, gamma=0.1, kernel=rbf; total time=   4.3s\n",
            "[CV] END ..C=1, class_weight=balanced, gamma=0.1, kernel=rbf; total time=   4.0s\n",
            "[CV] END .C=1, class_weight=balanced, gamma=0.01, kernel=rbf; total time=   3.2s\n",
            "[CV] END .C=1, class_weight=balanced, gamma=0.01, kernel=rbf; total time=   4.6s\n",
            "[CV] END ...C=10, class_weight=balanced, gamma=1, kernel=rbf; total time=   4.5s\n",
            "[CV] END ...C=10, class_weight=balanced, gamma=1, kernel=rbf; total time=   3.3s\n",
            "[CV] END .C=10, class_weight=balanced, gamma=0.1, kernel=rbf; total time=   4.3s\n",
            "[CV] END .C=10, class_weight=balanced, gamma=0.1, kernel=rbf; total time=   5.2s\n",
            "[CV] END C=10, class_weight=balanced, gamma=0.01, kernel=rbf; total time=   3.3s\n",
            "[CV] END C=10, class_weight=balanced, gamma=0.01, kernel=rbf; total time=   5.2s\n"
          ]
        },
        {
          "output_type": "execute_result",
          "data": {
            "text/plain": [
              "GridSearchCV(cv=2, estimator=SVC(),\n",
              "             param_grid={'C': [0.1, 1, 10], 'class_weight': ['balanced'],\n",
              "                         'gamma': [1, 0.1, 0.01], 'kernel': ['rbf']},\n",
              "             verbose=2)"
            ],
            "text/html": [
              "<style>#sk-container-id-6 {color: black;background-color: white;}#sk-container-id-6 pre{padding: 0;}#sk-container-id-6 div.sk-toggleable {background-color: white;}#sk-container-id-6 label.sk-toggleable__label {cursor: pointer;display: block;width: 100%;margin-bottom: 0;padding: 0.3em;box-sizing: border-box;text-align: center;}#sk-container-id-6 label.sk-toggleable__label-arrow:before {content: \"▸\";float: left;margin-right: 0.25em;color: #696969;}#sk-container-id-6 label.sk-toggleable__label-arrow:hover:before {color: black;}#sk-container-id-6 div.sk-estimator:hover label.sk-toggleable__label-arrow:before {color: black;}#sk-container-id-6 div.sk-toggleable__content {max-height: 0;max-width: 0;overflow: hidden;text-align: left;background-color: #f0f8ff;}#sk-container-id-6 div.sk-toggleable__content pre {margin: 0.2em;color: black;border-radius: 0.25em;background-color: #f0f8ff;}#sk-container-id-6 input.sk-toggleable__control:checked~div.sk-toggleable__content {max-height: 200px;max-width: 100%;overflow: auto;}#sk-container-id-6 input.sk-toggleable__control:checked~label.sk-toggleable__label-arrow:before {content: \"▾\";}#sk-container-id-6 div.sk-estimator input.sk-toggleable__control:checked~label.sk-toggleable__label {background-color: #d4ebff;}#sk-container-id-6 div.sk-label input.sk-toggleable__control:checked~label.sk-toggleable__label {background-color: #d4ebff;}#sk-container-id-6 input.sk-hidden--visually {border: 0;clip: rect(1px 1px 1px 1px);clip: rect(1px, 1px, 1px, 1px);height: 1px;margin: -1px;overflow: hidden;padding: 0;position: absolute;width: 1px;}#sk-container-id-6 div.sk-estimator {font-family: monospace;background-color: #f0f8ff;border: 1px dotted black;border-radius: 0.25em;box-sizing: border-box;margin-bottom: 0.5em;}#sk-container-id-6 div.sk-estimator:hover {background-color: #d4ebff;}#sk-container-id-6 div.sk-parallel-item::after {content: \"\";width: 100%;border-bottom: 1px solid gray;flex-grow: 1;}#sk-container-id-6 div.sk-label:hover label.sk-toggleable__label {background-color: #d4ebff;}#sk-container-id-6 div.sk-serial::before {content: \"\";position: absolute;border-left: 1px solid gray;box-sizing: border-box;top: 0;bottom: 0;left: 50%;z-index: 0;}#sk-container-id-6 div.sk-serial {display: flex;flex-direction: column;align-items: center;background-color: white;padding-right: 0.2em;padding-left: 0.2em;position: relative;}#sk-container-id-6 div.sk-item {position: relative;z-index: 1;}#sk-container-id-6 div.sk-parallel {display: flex;align-items: stretch;justify-content: center;background-color: white;position: relative;}#sk-container-id-6 div.sk-item::before, #sk-container-id-6 div.sk-parallel-item::before {content: \"\";position: absolute;border-left: 1px solid gray;box-sizing: border-box;top: 0;bottom: 0;left: 50%;z-index: -1;}#sk-container-id-6 div.sk-parallel-item {display: flex;flex-direction: column;z-index: 1;position: relative;background-color: white;}#sk-container-id-6 div.sk-parallel-item:first-child::after {align-self: flex-end;width: 50%;}#sk-container-id-6 div.sk-parallel-item:last-child::after {align-self: flex-start;width: 50%;}#sk-container-id-6 div.sk-parallel-item:only-child::after {width: 0;}#sk-container-id-6 div.sk-dashed-wrapped {border: 1px dashed gray;margin: 0 0.4em 0.5em 0.4em;box-sizing: border-box;padding-bottom: 0.4em;background-color: white;}#sk-container-id-6 div.sk-label label {font-family: monospace;font-weight: bold;display: inline-block;line-height: 1.2em;}#sk-container-id-6 div.sk-label-container {text-align: center;}#sk-container-id-6 div.sk-container {/* jupyter's `normalize.less` sets `[hidden] { display: none; }` but bootstrap.min.css set `[hidden] { display: none !important; }` so we also need the `!important` here to be able to override the default hidden behavior on the sphinx rendered scikit-learn.org. See: https://github.com/scikit-learn/scikit-learn/issues/21755 */display: inline-block !important;position: relative;}#sk-container-id-6 div.sk-text-repr-fallback {display: none;}</style><div id=\"sk-container-id-6\" class=\"sk-top-container\"><div class=\"sk-text-repr-fallback\"><pre>GridSearchCV(cv=2, estimator=SVC(),\n",
              "             param_grid={&#x27;C&#x27;: [0.1, 1, 10], &#x27;class_weight&#x27;: [&#x27;balanced&#x27;],\n",
              "                         &#x27;gamma&#x27;: [1, 0.1, 0.01], &#x27;kernel&#x27;: [&#x27;rbf&#x27;]},\n",
              "             verbose=2)</pre><b>In a Jupyter environment, please rerun this cell to show the HTML representation or trust the notebook. <br />On GitHub, the HTML representation is unable to render, please try loading this page with nbviewer.org.</b></div><div class=\"sk-container\" hidden><div class=\"sk-item sk-dashed-wrapped\"><div class=\"sk-label-container\"><div class=\"sk-label sk-toggleable\"><input class=\"sk-toggleable__control sk-hidden--visually\" id=\"sk-estimator-id-10\" type=\"checkbox\" ><label for=\"sk-estimator-id-10\" class=\"sk-toggleable__label sk-toggleable__label-arrow\">GridSearchCV</label><div class=\"sk-toggleable__content\"><pre>GridSearchCV(cv=2, estimator=SVC(),\n",
              "             param_grid={&#x27;C&#x27;: [0.1, 1, 10], &#x27;class_weight&#x27;: [&#x27;balanced&#x27;],\n",
              "                         &#x27;gamma&#x27;: [1, 0.1, 0.01], &#x27;kernel&#x27;: [&#x27;rbf&#x27;]},\n",
              "             verbose=2)</pre></div></div></div><div class=\"sk-parallel\"><div class=\"sk-parallel-item\"><div class=\"sk-item\"><div class=\"sk-label-container\"><div class=\"sk-label sk-toggleable\"><input class=\"sk-toggleable__control sk-hidden--visually\" id=\"sk-estimator-id-11\" type=\"checkbox\" ><label for=\"sk-estimator-id-11\" class=\"sk-toggleable__label sk-toggleable__label-arrow\">estimator: SVC</label><div class=\"sk-toggleable__content\"><pre>SVC()</pre></div></div></div><div class=\"sk-serial\"><div class=\"sk-item\"><div class=\"sk-estimator sk-toggleable\"><input class=\"sk-toggleable__control sk-hidden--visually\" id=\"sk-estimator-id-12\" type=\"checkbox\" ><label for=\"sk-estimator-id-12\" class=\"sk-toggleable__label sk-toggleable__label-arrow\">SVC</label><div class=\"sk-toggleable__content\"><pre>SVC()</pre></div></div></div></div></div></div></div></div></div></div>"
            ]
          },
          "metadata": {},
          "execution_count": 73
        }
      ]
    },
    {
      "cell_type": "code",
      "source": [
        "print(grid_ros.best_estimator_)"
      ],
      "metadata": {
        "colab": {
          "base_uri": "https://localhost:8080/"
        },
        "id": "4fJY0tlUmou-",
        "outputId": "329711f3-af71-44b0-ffe4-71e3bb1f4ed9"
      },
      "execution_count": 74,
      "outputs": [
        {
          "output_type": "stream",
          "name": "stdout",
          "text": [
            "SVC(C=10, class_weight='balanced', gamma=1)\n"
          ]
        }
      ]
    },
    {
      "cell_type": "code",
      "source": [
        "grid_predictions_ros = grid_ros.predict(X_test_ros)"
      ],
      "metadata": {
        "id": "Ktz45VMgmq6n"
      },
      "execution_count": 75,
      "outputs": []
    },
    {
      "cell_type": "code",
      "source": [
        "print(\"Confusion Matrix:\\n\", confusion_matrix(Y_test_ros, grid_predictions_ros))"
      ],
      "metadata": {
        "colab": {
          "base_uri": "https://localhost:8080/"
        },
        "id": "PPs4N-m0msxp",
        "outputId": "9eaf0cb0-1b04-4d39-937a-47671956a4fa"
      },
      "execution_count": 76,
      "outputs": [
        {
          "output_type": "stream",
          "name": "stdout",
          "text": [
            "Confusion Matrix:\n",
            " [[2026  349]\n",
            " [  90 2313]]\n"
          ]
        }
      ]
    },
    {
      "cell_type": "code",
      "source": [
        "print(\"Classification Report:\\n\", classification_report(Y_test_ros, grid_predictions_ros))"
      ],
      "metadata": {
        "colab": {
          "base_uri": "https://localhost:8080/"
        },
        "id": "xToQhza9muuH",
        "outputId": "af38127f-dc4e-4df6-a896-092d67a02858"
      },
      "execution_count": 77,
      "outputs": [
        {
          "output_type": "stream",
          "name": "stdout",
          "text": [
            "Classification Report:\n",
            "               precision    recall  f1-score   support\n",
            "\n",
            "           0       0.96      0.85      0.90      2375\n",
            "           1       0.87      0.96      0.91      2403\n",
            "\n",
            "    accuracy                           0.91      4778\n",
            "   macro avg       0.91      0.91      0.91      4778\n",
            "weighted avg       0.91      0.91      0.91      4778\n",
            "\n"
          ]
        }
      ]
    },
    {
      "cell_type": "markdown",
      "source": [
        "# **Conclusion**\n",
        "\n",
        "Finally, Using Random Over Sampling technique with Random Forest Classifier Model [Fine Tuned] has achieved a highest accuracy of 91%"
      ],
      "metadata": {
        "id": "qb8eI4CzrgCM"
      }
    }
  ]
}
